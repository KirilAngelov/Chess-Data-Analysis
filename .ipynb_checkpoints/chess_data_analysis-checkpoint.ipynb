{
 "cells": [
  {
   "cell_type": "markdown",
   "id": "7e907c55-7463-4ceb-9c9a-5677ef29a5dd",
   "metadata": {},
   "source": [
    "# <p style=\"text-align: center;\">Chess data analysis</p>"
   ]
  },
  {
   "cell_type": "markdown",
   "id": "37a6516c-057d-40f7-a7ae-66eb71526d0f",
   "metadata": {},
   "source": [
    "Chess is one of the most popular board games played in todays world. Every day there are millions, if not more, games of chess played and most of them are online. There is a lot of data floating around, some of it is official, from the International Chess Federation (FIDE) or unofficial data from different websites.\n",
    "\n",
    "With such huge amount of data at our hands, it would be a shame if we didn't answer one of the most obvious questions:\n",
    "\n",
    " **<p style=\"text-align: center;\">Which country is the most successful at chess?</p>**"
   ]
  },
  {
   "cell_type": "markdown",
   "id": "369716b3-2619-4d2c-ab5b-b2245922e6b6",
   "metadata": {},
   "source": [
    "In this notebook we will look over chess data from different resources and try to define success metrics, analyze our data, answer questions and most inportantly - have fun while doing it :)"
   ]
  },
  {
   "cell_type": "markdown",
   "id": "d5fc133b-7987-4203-99a1-dc24010968fc",
   "metadata": {},
   "source": [
    "### Basic information about chess rankings"
   ]
  },
  {
   "cell_type": "markdown",
   "id": "f89c6b79-80ff-4373-8aca-73d0dcc6ce07",
   "metadata": {},
   "source": [
    "Obviously winning a match is the best thing a competitive chess player can do. It's quite easy to define individual success in chess and there is already a such rating - ELO rating. The International Chess Federation or FIDE for short has numerous titles based on this rating. Here is some more information:\n",
    "\n",
    "1. Grandmaster or GM (sometimes International Grand Master or IGM is used) - player must have an Elo rating of at least 2500.\n",
    "2. International Master or IM - The minimum rating for the IM title is 2400.\n",
    "3. FIDE Master or FM - FIDE rating of 2300 or more.\n",
    "4. Candidate Master of CM - FIDE rating of at least 2200."
   ]
  },
  {
   "cell_type": "markdown",
   "id": "308fc1be-2b59-4209-a1c2-71eecca23a00",
   "metadata": {},
   "source": [
    "### Cleaning and exploring our data\n",
    "Let's see our data and prepare it for first time analysis. We will look at both datasets, see their different types and look for irregular and obvious wrong data. After that, we will look at some interesting statistics before moving on."
   ]
  },
  {
   "cell_type": "code",
   "execution_count": 1,
   "id": "9cdfd4d2-a282-490c-b479-365e6647cfae",
   "metadata": {
    "execution": {
     "iopub.execute_input": "2023-08-18T08:27:26.537526Z",
     "iopub.status.busy": "2023-08-18T08:27:26.537526Z",
     "iopub.status.idle": "2023-08-18T08:27:28.198665Z",
     "shell.execute_reply": "2023-08-18T08:27:28.197668Z",
     "shell.execute_reply.started": "2023-08-18T08:27:26.537526Z"
    },
    "tags": []
   },
   "outputs": [],
   "source": [
    "import pandas as pd\n",
    "import numpy as np\n",
    "import matplotlib.pyplot as plt\n",
    "from scipy.stats import norm\n",
    "import scipy.stats as stats\n",
    "import statistics\n",
    "from datetime import datetime\n",
    "from datetime import date\n",
    "from IPython.display import display"
   ]
  },
  {
   "cell_type": "code",
   "execution_count": 2,
   "id": "739072fd-fec1-4499-ba3b-c04f5cfa20bb",
   "metadata": {
    "execution": {
     "iopub.execute_input": "2023-08-18T08:27:28.199656Z",
     "iopub.status.busy": "2023-08-18T08:27:28.199656Z",
     "iopub.status.idle": "2023-08-18T08:27:29.449656Z",
     "shell.execute_reply": "2023-08-18T08:27:29.448854Z",
     "shell.execute_reply.started": "2023-08-18T08:27:28.199656Z"
    },
    "tags": []
   },
   "outputs": [],
   "source": [
    "data_2022 = pd.read_csv(\"data/Complete_Players_Database.csv\", dtype={'FIDE' :'str'})\n",
    "data_2020 = pd.read_csv(\"data/top_chess_players_aug_2020.csv\", dtype = {'Inactive_flag' : 'str'})"
   ]
  },
  {
   "cell_type": "code",
   "execution_count": 3,
   "id": "24102995-fba4-4e20-a0d4-768933a69e81",
   "metadata": {
    "execution": {
     "iopub.execute_input": "2023-08-18T08:27:29.450655Z",
     "iopub.status.busy": "2023-08-18T08:27:29.450655Z",
     "iopub.status.idle": "2023-08-18T08:27:29.480657Z",
     "shell.execute_reply": "2023-08-18T08:27:29.479717Z",
     "shell.execute_reply.started": "2023-08-18T08:27:29.450655Z"
    },
    "tags": []
   },
   "outputs": [
    {
     "data": {
      "text/html": [
       "<div>\n",
       "<style scoped>\n",
       "    .dataframe tbody tr th:only-of-type {\n",
       "        vertical-align: middle;\n",
       "    }\n",
       "\n",
       "    .dataframe tbody tr th {\n",
       "        vertical-align: top;\n",
       "    }\n",
       "\n",
       "    .dataframe thead th {\n",
       "        text-align: right;\n",
       "    }\n",
       "</style>\n",
       "<table border=\"1\" class=\"dataframe\">\n",
       "  <thead>\n",
       "    <tr style=\"text-align: right;\">\n",
       "      <th></th>\n",
       "      <th>Country Rank</th>\n",
       "      <th>Name</th>\n",
       "      <th>Title</th>\n",
       "      <th>Country</th>\n",
       "      <th>FIDE</th>\n",
       "      <th>Age</th>\n",
       "      <th>K-factor</th>\n",
       "    </tr>\n",
       "  </thead>\n",
       "  <tbody>\n",
       "    <tr>\n",
       "      <th>0</th>\n",
       "      <td>1</td>\n",
       "      <td>Mirzaad, S.wahabuddin</td>\n",
       "      <td>FM</td>\n",
       "      <td>Afghanistan</td>\n",
       "      <td>1999.0</td>\n",
       "      <td>35</td>\n",
       "      <td>20</td>\n",
       "    </tr>\n",
       "    <tr>\n",
       "      <th>1</th>\n",
       "      <td>2</td>\n",
       "      <td>Rahmani, Asef</td>\n",
       "      <td>unranked/unrated</td>\n",
       "      <td>Afghanistan</td>\n",
       "      <td>1871.0</td>\n",
       "      <td>49</td>\n",
       "      <td>20</td>\n",
       "    </tr>\n",
       "    <tr>\n",
       "      <th>2</th>\n",
       "      <td>3</td>\n",
       "      <td>Sarwari, Hamidullah</td>\n",
       "      <td>unranked/unrated</td>\n",
       "      <td>Afghanistan</td>\n",
       "      <td>1866.0</td>\n",
       "      <td>33</td>\n",
       "      <td>20</td>\n",
       "    </tr>\n",
       "    <tr>\n",
       "      <th>3</th>\n",
       "      <td>4</td>\n",
       "      <td>Sakhawaty, Sepehr</td>\n",
       "      <td>unranked/unrated</td>\n",
       "      <td>Afghanistan</td>\n",
       "      <td>1846.0</td>\n",
       "      <td>19</td>\n",
       "      <td>20</td>\n",
       "    </tr>\n",
       "    <tr>\n",
       "      <th>4</th>\n",
       "      <td>5</td>\n",
       "      <td>Jamshedy, Mohammad Ismail</td>\n",
       "      <td>unranked/unrated</td>\n",
       "      <td>Afghanistan</td>\n",
       "      <td>1790.0</td>\n",
       "      <td>78</td>\n",
       "      <td>20</td>\n",
       "    </tr>\n",
       "    <tr>\n",
       "      <th>...</th>\n",
       "      <td>...</td>\n",
       "      <td>...</td>\n",
       "      <td>...</td>\n",
       "      <td>...</td>\n",
       "      <td>...</td>\n",
       "      <td>...</td>\n",
       "      <td>...</td>\n",
       "    </tr>\n",
       "    <tr>\n",
       "      <th>175353</th>\n",
       "      <td>155</td>\n",
       "      <td>Mafukidze, Ruvimbo</td>\n",
       "      <td>unranked/unrated</td>\n",
       "      <td>Zimbabwe</td>\n",
       "      <td>1056.0</td>\n",
       "      <td>24</td>\n",
       "      <td>40</td>\n",
       "    </tr>\n",
       "    <tr>\n",
       "      <th>175354</th>\n",
       "      <td>156</td>\n",
       "      <td>Nyarenda Miranda</td>\n",
       "      <td>unranked/unrated</td>\n",
       "      <td>Zimbabwe</td>\n",
       "      <td>1045.0</td>\n",
       "      <td>15</td>\n",
       "      <td>40</td>\n",
       "    </tr>\n",
       "    <tr>\n",
       "      <th>175355</th>\n",
       "      <td>157</td>\n",
       "      <td>Gandiwa, Ellagia</td>\n",
       "      <td>unranked/unrated</td>\n",
       "      <td>Zimbabwe</td>\n",
       "      <td>1029.0</td>\n",
       "      <td>34</td>\n",
       "      <td>40</td>\n",
       "    </tr>\n",
       "    <tr>\n",
       "      <th>175356</th>\n",
       "      <td>158</td>\n",
       "      <td>ASHANTI KUVIMBA</td>\n",
       "      <td>unranked/unrated</td>\n",
       "      <td>Zimbabwe</td>\n",
       "      <td>1028.0</td>\n",
       "      <td>18</td>\n",
       "      <td>40</td>\n",
       "    </tr>\n",
       "    <tr>\n",
       "      <th>175357</th>\n",
       "      <td>159</td>\n",
       "      <td>Munyurwa, Seraph</td>\n",
       "      <td>unranked/unrated</td>\n",
       "      <td>Zimbabwe</td>\n",
       "      <td>1014.0</td>\n",
       "      <td>22</td>\n",
       "      <td>40</td>\n",
       "    </tr>\n",
       "  </tbody>\n",
       "</table>\n",
       "<p>175358 rows × 7 columns</p>\n",
       "</div>"
      ],
      "text/plain": [
       "        Country Rank                       Name             Title  \\\n",
       "0                  1      Mirzaad, S.wahabuddin                FM   \n",
       "1                  2              Rahmani, Asef  unranked/unrated   \n",
       "2                  3        Sarwari, Hamidullah  unranked/unrated   \n",
       "3                  4          Sakhawaty, Sepehr  unranked/unrated   \n",
       "4                  5  Jamshedy, Mohammad Ismail  unranked/unrated   \n",
       "...              ...                        ...               ...   \n",
       "175353           155         Mafukidze, Ruvimbo  unranked/unrated   \n",
       "175354           156           Nyarenda Miranda  unranked/unrated   \n",
       "175355           157           Gandiwa, Ellagia  unranked/unrated   \n",
       "175356           158            ASHANTI KUVIMBA  unranked/unrated   \n",
       "175357           159           Munyurwa, Seraph  unranked/unrated   \n",
       "\n",
       "            Country    FIDE  Age   K-factor  \n",
       "0       Afghanistan  1999.0   35         20  \n",
       "1       Afghanistan  1871.0   49         20  \n",
       "2       Afghanistan  1866.0   33         20  \n",
       "3       Afghanistan  1846.0   19         20  \n",
       "4       Afghanistan  1790.0   78         20  \n",
       "...             ...     ...  ...        ...  \n",
       "175353     Zimbabwe  1056.0   24         40  \n",
       "175354     Zimbabwe  1045.0   15         40  \n",
       "175355     Zimbabwe  1029.0   34         40  \n",
       "175356     Zimbabwe  1028.0   18         40  \n",
       "175357     Zimbabwe  1014.0   22         40  \n",
       "\n",
       "[175358 rows x 7 columns]"
      ]
     },
     "execution_count": 3,
     "metadata": {},
     "output_type": "execute_result"
    }
   ],
   "source": [
    "data_2022"
   ]
  },
  {
   "cell_type": "code",
   "execution_count": 4,
   "id": "cf7bdebf-5b41-4736-824b-28700058eed7",
   "metadata": {
    "execution": {
     "iopub.execute_input": "2023-08-18T08:27:29.481658Z",
     "iopub.status.busy": "2023-08-18T08:27:29.481658Z",
     "iopub.status.idle": "2023-08-18T08:27:29.512660Z",
     "shell.execute_reply": "2023-08-18T08:27:29.510656Z",
     "shell.execute_reply.started": "2023-08-18T08:27:29.481658Z"
    },
    "tags": []
   },
   "outputs": [
    {
     "data": {
      "text/plain": [
       "Country Rank     int64\n",
       "Name            object\n",
       "Title           object\n",
       "Country         object\n",
       "FIDE            object\n",
       "Age              int64\n",
       " K-factor        int64\n",
       "dtype: object"
      ]
     },
     "execution_count": 4,
     "metadata": {},
     "output_type": "execute_result"
    }
   ],
   "source": [
    "data_2022.dtypes"
   ]
  },
  {
   "cell_type": "markdown",
   "id": "435844dc-4457-4181-ba7f-e600d1a58593",
   "metadata": {},
   "source": [
    "This FIDE rating shouldn't be a string column, let's change the datatype. \n",
    "\n",
    "Also K-factor column has an extra space, which shoudn't be there."
   ]
  },
  {
   "cell_type": "code",
   "execution_count": 5,
   "id": "6a9a2a69-ee8b-4e01-aaf3-8a8eb458c67b",
   "metadata": {
    "execution": {
     "iopub.execute_input": "2023-08-18T08:27:29.515659Z",
     "iopub.status.busy": "2023-08-18T08:27:29.514659Z",
     "iopub.status.idle": "2023-08-18T08:27:29.542656Z",
     "shell.execute_reply": "2023-08-18T08:27:29.541689Z",
     "shell.execute_reply.started": "2023-08-18T08:27:29.515659Z"
    },
    "tags": []
   },
   "outputs": [],
   "source": [
    "data_2022 = data_2022.rename(columns = {' K-factor' : 'K-factor'})\n",
    "\n",
    "#data_2022[\"FIDE\"].astype(float) this line is commented, because it will give us an error!\n",
    "#There is a non numerical value in this column which is unranked/unrated. \n",
    "#When running this command, the error output contains the faulty value."
   ]
  },
  {
   "cell_type": "markdown",
   "id": "d4b6eecd-9811-4106-93fb-e75daf496580",
   "metadata": {},
   "source": [
    "And... We have an error. Looks like there is a non numerical value in the column, we will replace all the occurences of this value with NAN."
   ]
  },
  {
   "cell_type": "code",
   "execution_count": 6,
   "id": "126190bd-0391-47ed-a888-d09e663e84f6",
   "metadata": {
    "execution": {
     "iopub.execute_input": "2023-08-18T08:27:29.543655Z",
     "iopub.status.busy": "2023-08-18T08:27:29.543655Z",
     "iopub.status.idle": "2023-08-18T08:27:29.619657Z",
     "shell.execute_reply": "2023-08-18T08:27:29.618861Z",
     "shell.execute_reply.started": "2023-08-18T08:27:29.543655Z"
    },
    "tags": []
   },
   "outputs": [],
   "source": [
    "data_2022['FIDE'] = data_2022[\"FIDE\"].replace(to_replace = 'unranked/unrated', value = np.nan)\n",
    "data_2022['FIDE'] = data_2022['FIDE'].astype(float)"
   ]
  },
  {
   "cell_type": "code",
   "execution_count": 7,
   "id": "fa615be5-235c-4fe7-8664-973f2a77955a",
   "metadata": {
    "execution": {
     "iopub.execute_input": "2023-08-18T08:27:29.624656Z",
     "iopub.status.busy": "2023-08-18T08:27:29.623655Z",
     "iopub.status.idle": "2023-08-18T08:27:29.635656Z",
     "shell.execute_reply": "2023-08-18T08:27:29.634656Z",
     "shell.execute_reply.started": "2023-08-18T08:27:29.624656Z"
    },
    "tags": []
   },
   "outputs": [
    {
     "data": {
      "text/plain": [
       "Country Rank      int64\n",
       "Name             object\n",
       "Title            object\n",
       "Country          object\n",
       "FIDE            float64\n",
       "Age               int64\n",
       "K-factor          int64\n",
       "dtype: object"
      ]
     },
     "execution_count": 7,
     "metadata": {},
     "output_type": "execute_result"
    }
   ],
   "source": [
    "data_2022.dtypes"
   ]
  },
  {
   "cell_type": "markdown",
   "id": "f82c81e2-e100-4662-8878-94de67c207bc",
   "metadata": {
    "execution": {
     "iopub.execute_input": "2023-08-11T19:58:56.714968Z",
     "iopub.status.busy": "2023-08-11T19:58:56.713513Z",
     "iopub.status.idle": "2023-08-11T19:58:56.873495Z",
     "shell.execute_reply": "2023-08-11T19:58:56.872597Z",
     "shell.execute_reply.started": "2023-08-11T19:58:56.714911Z"
    },
    "tags": []
   },
   "source": [
    "While downloading this dataset, it was quite easy to see that someone was 970 years old, which cannot be true. If we didn't have access to this information, this is how we can see detailed statistics for our dataset."
   ]
  },
  {
   "cell_type": "code",
   "execution_count": 8,
   "id": "07eef8ff-373c-4f4c-a029-4f8aa7dfd358",
   "metadata": {
    "execution": {
     "iopub.execute_input": "2023-08-18T08:27:29.636655Z",
     "iopub.status.busy": "2023-08-18T08:27:29.636655Z",
     "iopub.status.idle": "2023-08-18T08:27:29.695688Z",
     "shell.execute_reply": "2023-08-18T08:27:29.695688Z",
     "shell.execute_reply.started": "2023-08-18T08:27:29.636655Z"
    },
    "tags": []
   },
   "outputs": [
    {
     "data": {
      "text/html": [
       "<div>\n",
       "<style scoped>\n",
       "    .dataframe tbody tr th:only-of-type {\n",
       "        vertical-align: middle;\n",
       "    }\n",
       "\n",
       "    .dataframe tbody tr th {\n",
       "        vertical-align: top;\n",
       "    }\n",
       "\n",
       "    .dataframe thead th {\n",
       "        text-align: right;\n",
       "    }\n",
       "</style>\n",
       "<table border=\"1\" class=\"dataframe\">\n",
       "  <thead>\n",
       "    <tr style=\"text-align: right;\">\n",
       "      <th></th>\n",
       "      <th>Country Rank</th>\n",
       "      <th>FIDE</th>\n",
       "      <th>Age</th>\n",
       "      <th>K-factor</th>\n",
       "    </tr>\n",
       "  </thead>\n",
       "  <tbody>\n",
       "    <tr>\n",
       "      <th>count</th>\n",
       "      <td>175358.000000</td>\n",
       "      <td>158685.000000</td>\n",
       "      <td>175358.000000</td>\n",
       "      <td>175358.000000</td>\n",
       "    </tr>\n",
       "    <tr>\n",
       "      <th>mean</th>\n",
       "      <td>3221.141704</td>\n",
       "      <td>1617.732740</td>\n",
       "      <td>36.374463</td>\n",
       "      <td>29.539713</td>\n",
       "    </tr>\n",
       "    <tr>\n",
       "      <th>std</th>\n",
       "      <td>3779.534044</td>\n",
       "      <td>359.149506</td>\n",
       "      <td>20.448013</td>\n",
       "      <td>10.328708</td>\n",
       "    </tr>\n",
       "    <tr>\n",
       "      <th>min</th>\n",
       "      <td>1.000000</td>\n",
       "      <td>1001.000000</td>\n",
       "      <td>6.000000</td>\n",
       "      <td>10.000000</td>\n",
       "    </tr>\n",
       "    <tr>\n",
       "      <th>25%</th>\n",
       "      <td>483.000000</td>\n",
       "      <td>1322.000000</td>\n",
       "      <td>18.000000</td>\n",
       "      <td>20.000000</td>\n",
       "    </tr>\n",
       "    <tr>\n",
       "      <th>50%</th>\n",
       "      <td>1653.000000</td>\n",
       "      <td>1612.000000</td>\n",
       "      <td>31.000000</td>\n",
       "      <td>20.000000</td>\n",
       "    </tr>\n",
       "    <tr>\n",
       "      <th>75%</th>\n",
       "      <td>4599.000000</td>\n",
       "      <td>1890.000000</td>\n",
       "      <td>53.000000</td>\n",
       "      <td>40.000000</td>\n",
       "    </tr>\n",
       "    <tr>\n",
       "      <th>max</th>\n",
       "      <td>16673.000000</td>\n",
       "      <td>2864.100000</td>\n",
       "      <td>970.000000</td>\n",
       "      <td>40.000000</td>\n",
       "    </tr>\n",
       "  </tbody>\n",
       "</table>\n",
       "</div>"
      ],
      "text/plain": [
       "        Country Rank           FIDE            Age       K-factor\n",
       "count  175358.000000  158685.000000  175358.000000  175358.000000\n",
       "mean     3221.141704    1617.732740      36.374463      29.539713\n",
       "std      3779.534044     359.149506      20.448013      10.328708\n",
       "min         1.000000    1001.000000       6.000000      10.000000\n",
       "25%       483.000000    1322.000000      18.000000      20.000000\n",
       "50%      1653.000000    1612.000000      31.000000      20.000000\n",
       "75%      4599.000000    1890.000000      53.000000      40.000000\n",
       "max     16673.000000    2864.100000     970.000000      40.000000"
      ]
     },
     "execution_count": 8,
     "metadata": {},
     "output_type": "execute_result"
    }
   ],
   "source": [
    "data_2022.describe()"
   ]
  },
  {
   "cell_type": "markdown",
   "id": "7c7bc6b5-9ef2-46a8-b2ed-51107e09c7d2",
   "metadata": {},
   "source": [
    "To be as close to the real world as possible, we will look at all the values of the age column and correct the wrong or missing ones.\n",
    "\n",
    "Another thing we can do is search for official information.\n",
    "\n",
    "According to the official FIDE rankings, Joan Codina Espinasa is the oldest active chess player aged 103 years old.\n",
    "https://ratings.fide.com/profile/24515850\n",
    "\n",
    "It would be logical to replace all values bigger than 103 with NAN, but first let's see how much of an impact that would make."
   ]
  },
  {
   "cell_type": "code",
   "execution_count": 9,
   "id": "f9580130-639e-45bc-af6b-040576ef149b",
   "metadata": {
    "execution": {
     "iopub.execute_input": "2023-08-18T08:27:29.696654Z",
     "iopub.status.busy": "2023-08-18T08:27:29.696654Z",
     "iopub.status.idle": "2023-08-18T08:27:29.711665Z",
     "shell.execute_reply": "2023-08-18T08:27:29.710695Z",
     "shell.execute_reply.started": "2023-08-18T08:27:29.696654Z"
    },
    "tags": []
   },
   "outputs": [
    {
     "data": {
      "text/plain": [
       "array([ 35,  49,  33,  19,  78,  50,  24,  41,  42,  46,  25,  43,  29,\n",
       "        31,  44,  65,  69,  40,  58,  21,  66,  60,  59,  36,  53,  28,\n",
       "        55,  67,  72,  57,  27,  38,  30,  56,  62,  64,  47,  32,  39,\n",
       "        26,  54,  61,  16,  14,  70,  18,  48,  37,  75,  20,  45,  77,\n",
       "        23,  15,  12,  17,  22,  13,  11,  10,  51,  34,  52,  68,  63,\n",
       "        74,  73,   8,   9,  86,  76,  71,  85,  81,  83,  79,  80,  88,\n",
       "        84,  82,  87,  98,  94,  90,  92,  95,  91, 970,   7,  89,  96,\n",
       "        97, 101,  93, 118,   6, 100, 103, 361, 137, 119, 102, 824],\n",
       "      dtype=int64)"
      ]
     },
     "execution_count": 9,
     "metadata": {},
     "output_type": "execute_result"
    }
   ],
   "source": [
    "data_2022['Age'].unique()"
   ]
  },
  {
   "cell_type": "code",
   "execution_count": 10,
   "id": "92a888d7-10ba-4f1e-a160-d9efd82b85d3",
   "metadata": {
    "execution": {
     "iopub.execute_input": "2023-08-18T08:27:29.713657Z",
     "iopub.status.busy": "2023-08-18T08:27:29.713657Z",
     "iopub.status.idle": "2023-08-18T08:27:29.742655Z",
     "shell.execute_reply": "2023-08-18T08:27:29.741656Z",
     "shell.execute_reply.started": "2023-08-18T08:27:29.713657Z"
    },
    "tags": []
   },
   "outputs": [
    {
     "data": {
      "text/html": [
       "<div>\n",
       "<style scoped>\n",
       "    .dataframe tbody tr th:only-of-type {\n",
       "        vertical-align: middle;\n",
       "    }\n",
       "\n",
       "    .dataframe tbody tr th {\n",
       "        vertical-align: top;\n",
       "    }\n",
       "\n",
       "    .dataframe thead th {\n",
       "        text-align: right;\n",
       "    }\n",
       "</style>\n",
       "<table border=\"1\" class=\"dataframe\">\n",
       "  <thead>\n",
       "    <tr style=\"text-align: right;\">\n",
       "      <th></th>\n",
       "      <th>Country Rank</th>\n",
       "      <th>Name</th>\n",
       "      <th>Title</th>\n",
       "      <th>Country</th>\n",
       "      <th>FIDE</th>\n",
       "      <th>Age</th>\n",
       "      <th>K-factor</th>\n",
       "    </tr>\n",
       "  </thead>\n",
       "  <tbody>\n",
       "    <tr>\n",
       "      <th>6466</th>\n",
       "      <td>1749</td>\n",
       "      <td>WEGAN, BARBARA</td>\n",
       "      <td>unranked/unrated</td>\n",
       "      <td>Austria</td>\n",
       "      <td>1705.0</td>\n",
       "      <td>970</td>\n",
       "      <td>40</td>\n",
       "    </tr>\n",
       "    <tr>\n",
       "      <th>31451</th>\n",
       "      <td>136</td>\n",
       "      <td>VIOLA HERRERA, VICTOR MANUEL</td>\n",
       "      <td>unranked/unrated</td>\n",
       "      <td>Dominican Republic</td>\n",
       "      <td>1844.0</td>\n",
       "      <td>118</td>\n",
       "      <td>20</td>\n",
       "    </tr>\n",
       "    <tr>\n",
       "      <th>31559</th>\n",
       "      <td>244</td>\n",
       "      <td>ORTIZ, JOSE ARTURO</td>\n",
       "      <td>unranked/unrated</td>\n",
       "      <td>Dominican Republic</td>\n",
       "      <td>1671.0</td>\n",
       "      <td>118</td>\n",
       "      <td>40</td>\n",
       "    </tr>\n",
       "    <tr>\n",
       "      <th>96034</th>\n",
       "      <td>162</td>\n",
       "      <td>SANCHIRDULAM GANBOLD</td>\n",
       "      <td>unranked/unrated</td>\n",
       "      <td>Mongolia</td>\n",
       "      <td>1458.0</td>\n",
       "      <td>118</td>\n",
       "      <td>40</td>\n",
       "    </tr>\n",
       "    <tr>\n",
       "      <th>96417</th>\n",
       "      <td>45</td>\n",
       "      <td>ELGHAZOUANI ABDESLAM</td>\n",
       "      <td>unranked/unrated</td>\n",
       "      <td>Morocco</td>\n",
       "      <td>1492.0</td>\n",
       "      <td>361</td>\n",
       "      <td>40</td>\n",
       "    </tr>\n",
       "    <tr>\n",
       "      <th>100924</th>\n",
       "      <td>64</td>\n",
       "      <td>ERHIRHIE JESUS COSMAS</td>\n",
       "      <td>unranked/unrated</td>\n",
       "      <td>Nigeria</td>\n",
       "      <td>1946.0</td>\n",
       "      <td>137</td>\n",
       "      <td>40</td>\n",
       "    </tr>\n",
       "    <tr>\n",
       "      <th>137135</th>\n",
       "      <td>121</td>\n",
       "      <td>Njenja, Duncan</td>\n",
       "      <td>unranked/unrated</td>\n",
       "      <td>South Africa</td>\n",
       "      <td>1734.0</td>\n",
       "      <td>119</td>\n",
       "      <td>40</td>\n",
       "    </tr>\n",
       "    <tr>\n",
       "      <th>137190</th>\n",
       "      <td>176</td>\n",
       "      <td>Nyoni, Gabriel</td>\n",
       "      <td>unranked/unrated</td>\n",
       "      <td>South Africa</td>\n",
       "      <td>1634.0</td>\n",
       "      <td>119</td>\n",
       "      <td>40</td>\n",
       "    </tr>\n",
       "    <tr>\n",
       "      <th>137205</th>\n",
       "      <td>191</td>\n",
       "      <td>MELLO, NKWADI</td>\n",
       "      <td>unranked/unrated</td>\n",
       "      <td>South Africa</td>\n",
       "      <td>1611.0</td>\n",
       "      <td>118</td>\n",
       "      <td>40</td>\n",
       "    </tr>\n",
       "    <tr>\n",
       "      <th>137206</th>\n",
       "      <td>192</td>\n",
       "      <td>Maketo, Henry</td>\n",
       "      <td>unranked/unrated</td>\n",
       "      <td>South Africa</td>\n",
       "      <td>1611.0</td>\n",
       "      <td>119</td>\n",
       "      <td>40</td>\n",
       "    </tr>\n",
       "    <tr>\n",
       "      <th>137215</th>\n",
       "      <td>201</td>\n",
       "      <td>CHUEU, CALVIN</td>\n",
       "      <td>unranked/unrated</td>\n",
       "      <td>South Africa</td>\n",
       "      <td>1602.0</td>\n",
       "      <td>118</td>\n",
       "      <td>40</td>\n",
       "    </tr>\n",
       "    <tr>\n",
       "      <th>161042</th>\n",
       "      <td>11</td>\n",
       "      <td>HUSSEIN ALLY</td>\n",
       "      <td>unranked/unrated</td>\n",
       "      <td>Tanzania</td>\n",
       "      <td>1468.0</td>\n",
       "      <td>824</td>\n",
       "      <td>40</td>\n",
       "    </tr>\n",
       "  </tbody>\n",
       "</table>\n",
       "</div>"
      ],
      "text/plain": [
       "        Country Rank                          Name             Title  \\\n",
       "6466            1749                WEGAN, BARBARA  unranked/unrated   \n",
       "31451            136  VIOLA HERRERA, VICTOR MANUEL  unranked/unrated   \n",
       "31559            244            ORTIZ, JOSE ARTURO  unranked/unrated   \n",
       "96034            162          SANCHIRDULAM GANBOLD  unranked/unrated   \n",
       "96417             45          ELGHAZOUANI ABDESLAM  unranked/unrated   \n",
       "100924            64         ERHIRHIE JESUS COSMAS  unranked/unrated   \n",
       "137135           121                Njenja, Duncan  unranked/unrated   \n",
       "137190           176                Nyoni, Gabriel  unranked/unrated   \n",
       "137205           191                 MELLO, NKWADI  unranked/unrated   \n",
       "137206           192                 Maketo, Henry  unranked/unrated   \n",
       "137215           201                 CHUEU, CALVIN  unranked/unrated   \n",
       "161042            11                  HUSSEIN ALLY  unranked/unrated   \n",
       "\n",
       "                   Country    FIDE  Age  K-factor  \n",
       "6466               Austria  1705.0  970        40  \n",
       "31451   Dominican Republic  1844.0  118        20  \n",
       "31559   Dominican Republic  1671.0  118        40  \n",
       "96034             Mongolia  1458.0  118        40  \n",
       "96417              Morocco  1492.0  361        40  \n",
       "100924             Nigeria  1946.0  137        40  \n",
       "137135        South Africa  1734.0  119        40  \n",
       "137190        South Africa  1634.0  119        40  \n",
       "137205        South Africa  1611.0  118        40  \n",
       "137206        South Africa  1611.0  119        40  \n",
       "137215        South Africa  1602.0  118        40  \n",
       "161042            Tanzania  1468.0  824        40  "
      ]
     },
     "execution_count": 10,
     "metadata": {},
     "output_type": "execute_result"
    }
   ],
   "source": [
    "oldest = data_2022[data_2022['Age'] > 103]\n",
    "oldest"
   ]
  },
  {
   "cell_type": "markdown",
   "id": "9ff78477-f9b7-4278-b257-0d2b85f3013c",
   "metadata": {},
   "source": [
    "With such a big dataset, it woudn't be a problem replacing these values."
   ]
  },
  {
   "cell_type": "code",
   "execution_count": 11,
   "id": "d7b730d2-b70b-4057-99ba-73b0e9687a05",
   "metadata": {
    "execution": {
     "iopub.execute_input": "2023-08-18T08:27:29.743655Z",
     "iopub.status.busy": "2023-08-18T08:27:29.743655Z",
     "iopub.status.idle": "2023-08-18T08:27:29.757690Z",
     "shell.execute_reply": "2023-08-18T08:27:29.757690Z",
     "shell.execute_reply.started": "2023-08-18T08:27:29.743655Z"
    },
    "tags": []
   },
   "outputs": [],
   "source": [
    "data_2022['Age'].where(data_2022['Age'] <= 103, np.nan, inplace = True)"
   ]
  },
  {
   "cell_type": "markdown",
   "id": "ac2bb37f-99bd-4434-bbe1-c61f01e12e22",
   "metadata": {},
   "source": [
    "One final look for this dataset, before we move on to cleaning the second one."
   ]
  },
  {
   "cell_type": "code",
   "execution_count": 12,
   "id": "0625783b-9b28-4614-ab57-088a15d20c89",
   "metadata": {
    "execution": {
     "iopub.execute_input": "2023-08-18T08:27:29.759656Z",
     "iopub.status.busy": "2023-08-18T08:27:29.758660Z",
     "iopub.status.idle": "2023-08-18T08:27:29.820661Z",
     "shell.execute_reply": "2023-08-18T08:27:29.819663Z",
     "shell.execute_reply.started": "2023-08-18T08:27:29.759656Z"
    },
    "tags": []
   },
   "outputs": [
    {
     "data": {
      "text/html": [
       "<div>\n",
       "<style scoped>\n",
       "    .dataframe tbody tr th:only-of-type {\n",
       "        vertical-align: middle;\n",
       "    }\n",
       "\n",
       "    .dataframe tbody tr th {\n",
       "        vertical-align: top;\n",
       "    }\n",
       "\n",
       "    .dataframe thead th {\n",
       "        text-align: right;\n",
       "    }\n",
       "</style>\n",
       "<table border=\"1\" class=\"dataframe\">\n",
       "  <thead>\n",
       "    <tr style=\"text-align: right;\">\n",
       "      <th></th>\n",
       "      <th>Country Rank</th>\n",
       "      <th>FIDE</th>\n",
       "      <th>Age</th>\n",
       "      <th>K-factor</th>\n",
       "    </tr>\n",
       "  </thead>\n",
       "  <tbody>\n",
       "    <tr>\n",
       "      <th>count</th>\n",
       "      <td>175358.000000</td>\n",
       "      <td>158685.000000</td>\n",
       "      <td>175346.000000</td>\n",
       "      <td>175358.000000</td>\n",
       "    </tr>\n",
       "    <tr>\n",
       "      <th>mean</th>\n",
       "      <td>3221.141704</td>\n",
       "      <td>1617.732740</td>\n",
       "      <td>36.358480</td>\n",
       "      <td>29.539713</td>\n",
       "    </tr>\n",
       "    <tr>\n",
       "      <th>std</th>\n",
       "      <td>3779.534044</td>\n",
       "      <td>359.149506</td>\n",
       "      <td>20.215713</td>\n",
       "      <td>10.328708</td>\n",
       "    </tr>\n",
       "    <tr>\n",
       "      <th>min</th>\n",
       "      <td>1.000000</td>\n",
       "      <td>1001.000000</td>\n",
       "      <td>6.000000</td>\n",
       "      <td>10.000000</td>\n",
       "    </tr>\n",
       "    <tr>\n",
       "      <th>25%</th>\n",
       "      <td>483.000000</td>\n",
       "      <td>1322.000000</td>\n",
       "      <td>18.000000</td>\n",
       "      <td>20.000000</td>\n",
       "    </tr>\n",
       "    <tr>\n",
       "      <th>50%</th>\n",
       "      <td>1653.000000</td>\n",
       "      <td>1612.000000</td>\n",
       "      <td>31.000000</td>\n",
       "      <td>20.000000</td>\n",
       "    </tr>\n",
       "    <tr>\n",
       "      <th>75%</th>\n",
       "      <td>4599.000000</td>\n",
       "      <td>1890.000000</td>\n",
       "      <td>53.000000</td>\n",
       "      <td>40.000000</td>\n",
       "    </tr>\n",
       "    <tr>\n",
       "      <th>max</th>\n",
       "      <td>16673.000000</td>\n",
       "      <td>2864.100000</td>\n",
       "      <td>103.000000</td>\n",
       "      <td>40.000000</td>\n",
       "    </tr>\n",
       "  </tbody>\n",
       "</table>\n",
       "</div>"
      ],
      "text/plain": [
       "        Country Rank           FIDE            Age       K-factor\n",
       "count  175358.000000  158685.000000  175346.000000  175358.000000\n",
       "mean     3221.141704    1617.732740      36.358480      29.539713\n",
       "std      3779.534044     359.149506      20.215713      10.328708\n",
       "min         1.000000    1001.000000       6.000000      10.000000\n",
       "25%       483.000000    1322.000000      18.000000      20.000000\n",
       "50%      1653.000000    1612.000000      31.000000      20.000000\n",
       "75%      4599.000000    1890.000000      53.000000      40.000000\n",
       "max     16673.000000    2864.100000     103.000000      40.000000"
      ]
     },
     "execution_count": 12,
     "metadata": {},
     "output_type": "execute_result"
    }
   ],
   "source": [
    "data_2022.describe()"
   ]
  },
  {
   "cell_type": "code",
   "execution_count": 13,
   "id": "deb84dd1-3303-4154-863e-7cac6ecf8a6c",
   "metadata": {
    "execution": {
     "iopub.execute_input": "2023-08-18T08:27:29.821657Z",
     "iopub.status.busy": "2023-08-18T08:27:29.821657Z",
     "iopub.status.idle": "2023-08-18T08:27:29.851656Z",
     "shell.execute_reply": "2023-08-18T08:27:29.850654Z",
     "shell.execute_reply.started": "2023-08-18T08:27:29.821657Z"
    },
    "tags": []
   },
   "outputs": [
    {
     "data": {
      "text/plain": [
       "array(['FM', 'unranked/unrated', 'GM', 'IM', 'WCM', 'WFM', 'WIM', 'WGM',\n",
       "       'CM', 'WH'], dtype=object)"
      ]
     },
     "execution_count": 13,
     "metadata": {},
     "output_type": "execute_result"
    }
   ],
   "source": [
    "data_2022['Title'].unique()"
   ]
  },
  {
   "cell_type": "code",
   "execution_count": 14,
   "id": "0eb49166-49c8-4ef2-9ec7-1efe4319409c",
   "metadata": {
    "execution": {
     "iopub.execute_input": "2023-08-18T08:27:29.853656Z",
     "iopub.status.busy": "2023-08-18T08:27:29.852658Z",
     "iopub.status.idle": "2023-08-18T08:27:29.882658Z",
     "shell.execute_reply": "2023-08-18T08:27:29.881657Z",
     "shell.execute_reply.started": "2023-08-18T08:27:29.853656Z"
    },
    "tags": []
   },
   "outputs": [
    {
     "data": {
      "text/plain": [
       "array(['Afghanistan', 'Albania', 'Algeria', 'Andorra', 'Angola',\n",
       "       'Argentina', 'Armenia', 'Aruba', 'Australia', 'Austria',\n",
       "       'Azerbaijan', 'Bahamas', 'Bangladesh', 'Barbados', 'Belarus',\n",
       "       'Belgium', 'Bermuda', 'Bolivia', 'Bosnia and Herzegovina',\n",
       "       'Botswana', 'Brazil', 'Brunei', 'Bulgaria', 'Burkina Faso',\n",
       "       'Burundi', 'Cameroon', 'Canada', 'Cape Verde', 'Chile', 'China',\n",
       "       'Colombia', 'Costa Rica', 'Croatia', 'Cuba', 'Cyprus',\n",
       "       'Czech Republic', 'Denmark', 'Dominican Republic', 'East Timor',\n",
       "       'Ecuador', 'Egypt', 'El Salvador', 'Estonia', 'Ethiopia',\n",
       "       'Faroe Islands', 'FIDE', 'Fiji', 'Finland', 'France', 'Georgia',\n",
       "       'Germany', 'Ghana', 'Greece', 'Guam', 'Guatemala', 'Guernsey',\n",
       "       'Guyana', 'Haiti', 'Honduras', 'Hong Kong', 'Hungary', 'Iceland',\n",
       "       'India', 'Indonesia', 'Iran', 'Iraq', 'Ireland', 'Israel', 'Italy',\n",
       "       'Ivory Coast', 'Jamaica', 'Japan', 'Jersey', 'Jordan',\n",
       "       'Kazakhstan', 'Kenya', 'Kosovo', 'Kuwait', 'Kyrgyzstan', 'Laos',\n",
       "       'Latvia', 'Lebanon', 'Lesotho', 'Liberia', 'Libya',\n",
       "       'Liechtenstein', 'Lithuania', 'Luxembourg', 'Macao', 'Macedonia',\n",
       "       'Madagascar', 'Malawi', 'Malaysia', 'Maldives', 'Malta',\n",
       "       'Mauritania', 'Mauritius', 'Mexico', 'Moldova', 'Monaco',\n",
       "       'Mongolia', 'Montenegro', 'Morocco', 'Mozambique', 'Myanmar',\n",
       "       'Namibia', 'Nauru', 'Nepal', 'Netherlands Antilles', 'Netherlands',\n",
       "       'New Zealand', 'Nicaragua', 'Nigeria', 'Norway', 'Oman',\n",
       "       'Pakistan', 'Palau', 'Palestine', 'Panama', 'Papua New Guinea',\n",
       "       'Paraguay', 'Peru', 'Philippines', 'Poland', 'Portugal',\n",
       "       'Puerto Rico', 'Qatar', 'Romania', 'Russia', 'Rwanda',\n",
       "       'San Marino', 'Sao Tome and Principe', 'Saudi Arabia', 'SCOTLAND',\n",
       "       'Senegal', 'Serbia', 'Seychelles', 'Sierra Leone', 'Singapore',\n",
       "       'Slovakia', 'Slovenia', 'Solomon Islands', 'Somalia',\n",
       "       'South Africa', 'South Korea', 'South Sudan', 'Spain', 'Sri Lanka',\n",
       "       'Sudan', 'Suriname', 'Swaziland', 'Sweden', 'Switzerland', 'Syria',\n",
       "       'Tajikistan', 'Tanzania', 'Thailand', 'Togo',\n",
       "       'Trinidad and Tobago', 'Tunisia', 'Turkey', 'Turkmenistan',\n",
       "       'Uganda', 'Ukraine', 'United Arab Emirates', 'UNITED KINGDOM',\n",
       "       'United States Virgin Islands', 'United States', 'Uruguay',\n",
       "       'Uzbekistan', 'Venezuela', 'Vietnam', 'WALES', 'Yemen', 'Zambia',\n",
       "       'Zimbabwe'], dtype=object)"
      ]
     },
     "execution_count": 14,
     "metadata": {},
     "output_type": "execute_result"
    }
   ],
   "source": [
    "data_2022['Country'].unique()"
   ]
  },
  {
   "cell_type": "markdown",
   "id": "1078dec4-e9bd-4859-85ca-b1ac2f6bf8d7",
   "metadata": {},
   "source": [
    "Another strange thing, FIDE shoudn't be a country/federation..."
   ]
  },
  {
   "cell_type": "code",
   "execution_count": 15,
   "id": "d4c7b7a3-94bd-4700-82b1-ba43e6ccca59",
   "metadata": {
    "execution": {
     "iopub.execute_input": "2023-08-18T08:27:29.884662Z",
     "iopub.status.busy": "2023-08-18T08:27:29.883673Z",
     "iopub.status.idle": "2023-08-18T08:27:29.927655Z",
     "shell.execute_reply": "2023-08-18T08:27:29.926654Z",
     "shell.execute_reply.started": "2023-08-18T08:27:29.884662Z"
    },
    "tags": []
   },
   "outputs": [
    {
     "data": {
      "text/html": [
       "<div>\n",
       "<style scoped>\n",
       "    .dataframe tbody tr th:only-of-type {\n",
       "        vertical-align: middle;\n",
       "    }\n",
       "\n",
       "    .dataframe tbody tr th {\n",
       "        vertical-align: top;\n",
       "    }\n",
       "\n",
       "    .dataframe thead th {\n",
       "        text-align: right;\n",
       "    }\n",
       "</style>\n",
       "<table border=\"1\" class=\"dataframe\">\n",
       "  <thead>\n",
       "    <tr style=\"text-align: right;\">\n",
       "      <th></th>\n",
       "      <th>Country Rank</th>\n",
       "      <th>Name</th>\n",
       "      <th>Title</th>\n",
       "      <th>Country</th>\n",
       "      <th>FIDE</th>\n",
       "      <th>Age</th>\n",
       "      <th>K-factor</th>\n",
       "    </tr>\n",
       "  </thead>\n",
       "  <tbody>\n",
       "    <tr>\n",
       "      <th>33939</th>\n",
       "      <td>1</td>\n",
       "      <td>Kovalev, Vladislav</td>\n",
       "      <td>GM</td>\n",
       "      <td>FIDE</td>\n",
       "      <td>2623.0</td>\n",
       "      <td>28.0</td>\n",
       "      <td>10</td>\n",
       "    </tr>\n",
       "    <tr>\n",
       "      <th>33940</th>\n",
       "      <td>2</td>\n",
       "      <td>Alonso Garcia, Rene Marcial</td>\n",
       "      <td>IM</td>\n",
       "      <td>FIDE</td>\n",
       "      <td>2329.0</td>\n",
       "      <td>59.0</td>\n",
       "      <td>10</td>\n",
       "    </tr>\n",
       "    <tr>\n",
       "      <th>33941</th>\n",
       "      <td>3</td>\n",
       "      <td>Castellanos, Jorge</td>\n",
       "      <td>unranked/unrated</td>\n",
       "      <td>FIDE</td>\n",
       "      <td>2287.0</td>\n",
       "      <td>47.0</td>\n",
       "      <td>20</td>\n",
       "    </tr>\n",
       "    <tr>\n",
       "      <th>33942</th>\n",
       "      <td>4</td>\n",
       "      <td>Ferragut Blanco, Arnaldo</td>\n",
       "      <td>FM</td>\n",
       "      <td>FIDE</td>\n",
       "      <td>2176.0</td>\n",
       "      <td>49.0</td>\n",
       "      <td>20</td>\n",
       "    </tr>\n",
       "    <tr>\n",
       "      <th>33943</th>\n",
       "      <td>5</td>\n",
       "      <td>Lebedinsky, Eduard</td>\n",
       "      <td>unranked/unrated</td>\n",
       "      <td>FIDE</td>\n",
       "      <td>2164.0</td>\n",
       "      <td>69.0</td>\n",
       "      <td>20</td>\n",
       "    </tr>\n",
       "    <tr>\n",
       "      <th>...</th>\n",
       "      <td>...</td>\n",
       "      <td>...</td>\n",
       "      <td>...</td>\n",
       "      <td>...</td>\n",
       "      <td>...</td>\n",
       "      <td>...</td>\n",
       "      <td>...</td>\n",
       "    </tr>\n",
       "    <tr>\n",
       "      <th>34020</th>\n",
       "      <td>82</td>\n",
       "      <td>V, Kanisha</td>\n",
       "      <td>unranked/unrated</td>\n",
       "      <td>FIDE</td>\n",
       "      <td>1036.0</td>\n",
       "      <td>19.0</td>\n",
       "      <td>40</td>\n",
       "    </tr>\n",
       "    <tr>\n",
       "      <th>34021</th>\n",
       "      <td>83</td>\n",
       "      <td>Mackintosh, Michaella</td>\n",
       "      <td>unranked/unrated</td>\n",
       "      <td>FIDE</td>\n",
       "      <td>1018.0</td>\n",
       "      <td>14.0</td>\n",
       "      <td>40</td>\n",
       "    </tr>\n",
       "    <tr>\n",
       "      <th>34022</th>\n",
       "      <td>84</td>\n",
       "      <td>Jayanth, Haresh Jayanth</td>\n",
       "      <td>unranked/unrated</td>\n",
       "      <td>FIDE</td>\n",
       "      <td>1017.0</td>\n",
       "      <td>45.0</td>\n",
       "      <td>20</td>\n",
       "    </tr>\n",
       "    <tr>\n",
       "      <th>34023</th>\n",
       "      <td>85</td>\n",
       "      <td>Sang, Lehan</td>\n",
       "      <td>unranked/unrated</td>\n",
       "      <td>FIDE</td>\n",
       "      <td>1013.0</td>\n",
       "      <td>9.0</td>\n",
       "      <td>40</td>\n",
       "    </tr>\n",
       "    <tr>\n",
       "      <th>34024</th>\n",
       "      <td>86</td>\n",
       "      <td>da Costa Neto, Silvio Dias</td>\n",
       "      <td>unranked/unrated</td>\n",
       "      <td>FIDE</td>\n",
       "      <td>1010.0</td>\n",
       "      <td>39.0</td>\n",
       "      <td>40</td>\n",
       "    </tr>\n",
       "  </tbody>\n",
       "</table>\n",
       "<p>86 rows × 7 columns</p>\n",
       "</div>"
      ],
      "text/plain": [
       "       Country Rank                         Name             Title Country  \\\n",
       "33939             1           Kovalev, Vladislav                GM    FIDE   \n",
       "33940             2  Alonso Garcia, Rene Marcial                IM    FIDE   \n",
       "33941             3           Castellanos, Jorge  unranked/unrated    FIDE   \n",
       "33942             4     Ferragut Blanco, Arnaldo                FM    FIDE   \n",
       "33943             5           Lebedinsky, Eduard  unranked/unrated    FIDE   \n",
       "...             ...                          ...               ...     ...   \n",
       "34020            82                   V, Kanisha  unranked/unrated    FIDE   \n",
       "34021            83        Mackintosh, Michaella  unranked/unrated    FIDE   \n",
       "34022            84      Jayanth, Haresh Jayanth  unranked/unrated    FIDE   \n",
       "34023            85                  Sang, Lehan  unranked/unrated    FIDE   \n",
       "34024            86   da Costa Neto, Silvio Dias  unranked/unrated    FIDE   \n",
       "\n",
       "         FIDE   Age  K-factor  \n",
       "33939  2623.0  28.0        10  \n",
       "33940  2329.0  59.0        10  \n",
       "33941  2287.0  47.0        20  \n",
       "33942  2176.0  49.0        20  \n",
       "33943  2164.0  69.0        20  \n",
       "...       ...   ...       ...  \n",
       "34020  1036.0  19.0        40  \n",
       "34021  1018.0  14.0        40  \n",
       "34022  1017.0  45.0        20  \n",
       "34023  1013.0   9.0        40  \n",
       "34024  1010.0  39.0        40  \n",
       "\n",
       "[86 rows x 7 columns]"
      ]
     },
     "execution_count": 15,
     "metadata": {},
     "output_type": "execute_result"
    }
   ],
   "source": [
    "from_fide = data_2022[data_2022['Country'] == 'FIDE']\n",
    "from_fide"
   ]
  },
  {
   "cell_type": "markdown",
   "id": "03ce3e37-9743-4d56-a1ff-0e797f88f857",
   "metadata": {},
   "source": [
    "And after some research, it looks like this is intentional! \n",
    "\n",
    "There are two reasons:\n",
    "\n",
    "1. If a member federation is suspended (e.g. for arrears with membership fees), players are listed under FIDE flag until the issue is settled.\n",
    "2. If a player has good reasons not to play for his federation any more, he may be permitted to play under FIDE flag (such as [Firouzia](https://en.wikipedia.org/wiki/Alireza_Firouzja), see Wikipedia)."
   ]
  },
  {
   "cell_type": "markdown",
   "id": "45de03f2-4aa1-4e42-bdd1-037edc5ff511",
   "metadata": {},
   "source": [
    "SCOTLAND, WALES and UNITED KINGDOM shoudn't be uppercase. \n",
    "\n",
    "Let's change their values and move on with the second dataset."
   ]
  },
  {
   "cell_type": "code",
   "execution_count": 16,
   "id": "d1fff14e-4fc9-47f2-be84-9b7ee67f60f4",
   "metadata": {
    "execution": {
     "iopub.execute_input": "2023-08-18T08:27:29.931665Z",
     "iopub.status.busy": "2023-08-18T08:27:29.930660Z",
     "iopub.status.idle": "2023-08-18T08:27:29.989659Z",
     "shell.execute_reply": "2023-08-18T08:27:29.988686Z",
     "shell.execute_reply.started": "2023-08-18T08:27:29.931665Z"
    },
    "tags": []
   },
   "outputs": [
    {
     "data": {
      "text/plain": [
       "array(['Afghanistan', 'Albania', 'Algeria', 'Andorra', 'Angola',\n",
       "       'Argentina', 'Armenia', 'Aruba', 'Australia', 'Austria',\n",
       "       'Azerbaijan', 'Bahamas', 'Bangladesh', 'Barbados', 'Belarus',\n",
       "       'Belgium', 'Bermuda', 'Bolivia', 'Bosnia and Herzegovina',\n",
       "       'Botswana', 'Brazil', 'Brunei', 'Bulgaria', 'Burkina Faso',\n",
       "       'Burundi', 'Cameroon', 'Canada', 'Cape Verde', 'Chile', 'China',\n",
       "       'Colombia', 'Costa Rica', 'Croatia', 'Cuba', 'Cyprus',\n",
       "       'Czech Republic', 'Denmark', 'Dominican Republic', 'East Timor',\n",
       "       'Ecuador', 'Egypt', 'El Salvador', 'Estonia', 'Ethiopia',\n",
       "       'Faroe Islands', 'FIDE', 'Fiji', 'Finland', 'France', 'Georgia',\n",
       "       'Germany', 'Ghana', 'Greece', 'Guam', 'Guatemala', 'Guernsey',\n",
       "       'Guyana', 'Haiti', 'Honduras', 'Hong Kong', 'Hungary', 'Iceland',\n",
       "       'India', 'Indonesia', 'Iran', 'Iraq', 'Ireland', 'Israel', 'Italy',\n",
       "       'Ivory Coast', 'Jamaica', 'Japan', 'Jersey', 'Jordan',\n",
       "       'Kazakhstan', 'Kenya', 'Kosovo', 'Kuwait', 'Kyrgyzstan', 'Laos',\n",
       "       'Latvia', 'Lebanon', 'Lesotho', 'Liberia', 'Libya',\n",
       "       'Liechtenstein', 'Lithuania', 'Luxembourg', 'Macao', 'Macedonia',\n",
       "       'Madagascar', 'Malawi', 'Malaysia', 'Maldives', 'Malta',\n",
       "       'Mauritania', 'Mauritius', 'Mexico', 'Moldova', 'Monaco',\n",
       "       'Mongolia', 'Montenegro', 'Morocco', 'Mozambique', 'Myanmar',\n",
       "       'Namibia', 'Nauru', 'Nepal', 'Netherlands Antilles', 'Netherlands',\n",
       "       'New Zealand', 'Nicaragua', 'Nigeria', 'Norway', 'Oman',\n",
       "       'Pakistan', 'Palau', 'Palestine', 'Panama', 'Papua New Guinea',\n",
       "       'Paraguay', 'Peru', 'Philippines', 'Poland', 'Portugal',\n",
       "       'Puerto Rico', 'Qatar', 'Romania', 'Russia', 'Rwanda',\n",
       "       'San Marino', 'Sao Tome and Principe', 'Saudi Arabia', 'Scotland',\n",
       "       'Senegal', 'Serbia', 'Seychelles', 'Sierra Leone', 'Singapore',\n",
       "       'Slovakia', 'Slovenia', 'Solomon Islands', 'Somalia',\n",
       "       'South Africa', 'South Korea', 'South Sudan', 'Spain', 'Sri Lanka',\n",
       "       'Sudan', 'Suriname', 'Swaziland', 'Sweden', 'Switzerland', 'Syria',\n",
       "       'Tajikistan', 'Tanzania', 'Thailand', 'Togo',\n",
       "       'Trinidad and Tobago', 'Tunisia', 'Turkey', 'Turkmenistan',\n",
       "       'Uganda', 'Ukraine', 'United Arab Emirates', 'United Kingdom',\n",
       "       'United States Virgin Islands', 'United States', 'Uruguay',\n",
       "       'Uzbekistan', 'Venezuela', 'Vietnam', 'Wales', 'Yemen', 'Zambia',\n",
       "       'Zimbabwe'], dtype=object)"
      ]
     },
     "execution_count": 16,
     "metadata": {},
     "output_type": "execute_result"
    }
   ],
   "source": [
    "data_2022['Country'] = data_2022['Country'].replace(['SCOTLAND', 'WALES', 'UNITED KINGDOM'], ['Scotland', 'Wales', \"United Kingdom\"])\n",
    "data_2022['Country'].unique()"
   ]
  },
  {
   "cell_type": "markdown",
   "id": "2c1384f6-d0dc-4ab8-8c6a-7a8cc149aa52",
   "metadata": {},
   "source": [
    "### Exploring the second dataset."
   ]
  },
  {
   "cell_type": "code",
   "execution_count": 17,
   "id": "4762ce4c-262a-4a90-9ed8-5a062a84dd76",
   "metadata": {
    "execution": {
     "iopub.execute_input": "2023-08-18T08:27:29.990655Z",
     "iopub.status.busy": "2023-08-18T08:27:29.990655Z",
     "iopub.status.idle": "2023-08-18T08:27:30.019656Z",
     "shell.execute_reply": "2023-08-18T08:27:30.018654Z",
     "shell.execute_reply.started": "2023-08-18T08:27:29.990655Z"
    },
    "tags": []
   },
   "outputs": [
    {
     "data": {
      "text/html": [
       "<div>\n",
       "<style scoped>\n",
       "    .dataframe tbody tr th:only-of-type {\n",
       "        vertical-align: middle;\n",
       "    }\n",
       "\n",
       "    .dataframe tbody tr th {\n",
       "        vertical-align: top;\n",
       "    }\n",
       "\n",
       "    .dataframe thead th {\n",
       "        text-align: right;\n",
       "    }\n",
       "</style>\n",
       "<table border=\"1\" class=\"dataframe\">\n",
       "  <thead>\n",
       "    <tr style=\"text-align: right;\">\n",
       "      <th></th>\n",
       "      <th>Fide id</th>\n",
       "      <th>Name</th>\n",
       "      <th>Federation</th>\n",
       "      <th>Gender</th>\n",
       "      <th>Year_of_birth</th>\n",
       "      <th>Title</th>\n",
       "      <th>Standard_Rating</th>\n",
       "      <th>Rapid_rating</th>\n",
       "      <th>Blitz_rating</th>\n",
       "      <th>Inactive_flag</th>\n",
       "    </tr>\n",
       "  </thead>\n",
       "  <tbody>\n",
       "    <tr>\n",
       "      <th>0</th>\n",
       "      <td>1503014</td>\n",
       "      <td>Carlsen, Magnus</td>\n",
       "      <td>NOR</td>\n",
       "      <td>M</td>\n",
       "      <td>1990.0</td>\n",
       "      <td>GM</td>\n",
       "      <td>2863.0</td>\n",
       "      <td>2881.0</td>\n",
       "      <td>2886.0</td>\n",
       "      <td>NaN</td>\n",
       "    </tr>\n",
       "    <tr>\n",
       "      <th>1</th>\n",
       "      <td>2020009</td>\n",
       "      <td>Caruana, Fabiano</td>\n",
       "      <td>USA</td>\n",
       "      <td>M</td>\n",
       "      <td>1992.0</td>\n",
       "      <td>GM</td>\n",
       "      <td>2835.0</td>\n",
       "      <td>2773.0</td>\n",
       "      <td>2711.0</td>\n",
       "      <td>NaN</td>\n",
       "    </tr>\n",
       "    <tr>\n",
       "      <th>2</th>\n",
       "      <td>4100018</td>\n",
       "      <td>Kasparov, Garry</td>\n",
       "      <td>RUS</td>\n",
       "      <td>M</td>\n",
       "      <td>1963.0</td>\n",
       "      <td>GM</td>\n",
       "      <td>2812.0</td>\n",
       "      <td>2783.0</td>\n",
       "      <td>2801.0</td>\n",
       "      <td>i</td>\n",
       "    </tr>\n",
       "    <tr>\n",
       "      <th>3</th>\n",
       "      <td>8603677</td>\n",
       "      <td>Ding, Liren</td>\n",
       "      <td>CHN</td>\n",
       "      <td>M</td>\n",
       "      <td>1992.0</td>\n",
       "      <td>GM</td>\n",
       "      <td>2791.0</td>\n",
       "      <td>2836.0</td>\n",
       "      <td>2788.0</td>\n",
       "      <td>NaN</td>\n",
       "    </tr>\n",
       "    <tr>\n",
       "      <th>4</th>\n",
       "      <td>4168119</td>\n",
       "      <td>Nepomniachtchi, Ian</td>\n",
       "      <td>RUS</td>\n",
       "      <td>M</td>\n",
       "      <td>1990.0</td>\n",
       "      <td>GM</td>\n",
       "      <td>2784.0</td>\n",
       "      <td>2778.0</td>\n",
       "      <td>2785.0</td>\n",
       "      <td>NaN</td>\n",
       "    </tr>\n",
       "  </tbody>\n",
       "</table>\n",
       "</div>"
      ],
      "text/plain": [
       "   Fide id                 Name Federation Gender  Year_of_birth Title  \\\n",
       "0  1503014      Carlsen, Magnus        NOR      M         1990.0    GM   \n",
       "1  2020009     Caruana, Fabiano        USA      M         1992.0    GM   \n",
       "2  4100018      Kasparov, Garry        RUS      M         1963.0    GM   \n",
       "3  8603677          Ding, Liren        CHN      M         1992.0    GM   \n",
       "4  4168119  Nepomniachtchi, Ian        RUS      M         1990.0    GM   \n",
       "\n",
       "   Standard_Rating  Rapid_rating  Blitz_rating Inactive_flag  \n",
       "0           2863.0        2881.0        2886.0           NaN  \n",
       "1           2835.0        2773.0        2711.0           NaN  \n",
       "2           2812.0        2783.0        2801.0             i  \n",
       "3           2791.0        2836.0        2788.0           NaN  \n",
       "4           2784.0        2778.0        2785.0           NaN  "
      ]
     },
     "execution_count": 17,
     "metadata": {},
     "output_type": "execute_result"
    }
   ],
   "source": [
    "data_2020.head()"
   ]
  },
  {
   "cell_type": "markdown",
   "id": "664ad034-82a6-4fe0-a603-42090ed74b04",
   "metadata": {
    "tags": []
   },
   "source": [
    "This dataset has some differences:\n",
    "1. There is a FIDE id, which we probably won't use for our research.\n",
    "2. Ratings are for the 3 different types of rated chess. One solution for this is to make a new column and its value can be the average for 3 types of ratings, for each player.\n",
    "3. New column with active/inactive flag. 'i' is for inactive and 'wi' is for a an inactive woman.\n",
    "\n"
   ]
  },
  {
   "cell_type": "code",
   "execution_count": 18,
   "id": "01270a07-29aa-475c-acba-e9ecf95828a5",
   "metadata": {
    "execution": {
     "iopub.execute_input": "2023-08-18T08:27:30.020656Z",
     "iopub.status.busy": "2023-08-18T08:27:30.020656Z",
     "iopub.status.idle": "2023-08-18T08:27:30.081654Z",
     "shell.execute_reply": "2023-08-18T08:27:30.081654Z",
     "shell.execute_reply.started": "2023-08-18T08:27:30.020656Z"
    }
   },
   "outputs": [
    {
     "data": {
      "text/plain": [
       "array([nan, 'i', 'wi'], dtype=object)"
      ]
     },
     "execution_count": 18,
     "metadata": {},
     "output_type": "execute_result"
    }
   ],
   "source": [
    "data_2020['Inactive_flag'].unique()"
   ]
  },
  {
   "cell_type": "markdown",
   "id": "4d6ba921-7585-45e4-bcec-b8a41eb1e848",
   "metadata": {},
   "source": [
    "Again, we will check several columns and values, before starting our analysis."
   ]
  },
  {
   "cell_type": "code",
   "execution_count": 19,
   "id": "8ad3e205-e349-4379-b7b3-ce046984a60d",
   "metadata": {
    "execution": {
     "iopub.execute_input": "2023-08-18T08:27:30.083655Z",
     "iopub.status.busy": "2023-08-18T08:27:30.082655Z",
     "iopub.status.idle": "2023-08-18T08:27:30.113661Z",
     "shell.execute_reply": "2023-08-18T08:27:30.112687Z",
     "shell.execute_reply.started": "2023-08-18T08:27:30.083655Z"
    }
   },
   "outputs": [
    {
     "data": {
      "text/plain": [
       "Fide id              int64\n",
       "Name                object\n",
       "Federation          object\n",
       "Gender              object\n",
       "Year_of_birth      float64\n",
       "Title               object\n",
       "Standard_Rating    float64\n",
       "Rapid_rating       float64\n",
       "Blitz_rating       float64\n",
       "Inactive_flag       object\n",
       "dtype: object"
      ]
     },
     "execution_count": 19,
     "metadata": {},
     "output_type": "execute_result"
    }
   ],
   "source": [
    "data_2020.dtypes"
   ]
  },
  {
   "cell_type": "code",
   "execution_count": 20,
   "id": "5b04154e-7b75-472d-8999-ae4a192f77c1",
   "metadata": {
    "execution": {
     "iopub.execute_input": "2023-08-18T08:27:30.114654Z",
     "iopub.status.busy": "2023-08-18T08:27:30.114654Z",
     "iopub.status.idle": "2023-08-18T08:27:30.173654Z",
     "shell.execute_reply": "2023-08-18T08:27:30.173654Z",
     "shell.execute_reply.started": "2023-08-18T08:27:30.114654Z"
    },
    "tags": []
   },
   "outputs": [
    {
     "data": {
      "text/plain": [
       "array(['NOR', 'USA', 'RUS', 'CHN', 'FRA', 'ARM', 'AZE', 'NED', 'HUN',\n",
       "       'IND', 'POL', 'BUL', 'FID', 'CZE', 'ESP', 'VIE', 'ENG', 'UKR',\n",
       "       'EGY', 'GEO', 'UAE', 'AUT', 'ISR', 'IRI', 'SWE', 'UZB', 'GER',\n",
       "       'ROU', 'KAZ', 'PER', 'BLR', 'CRO', 'LAT', 'TUR', 'CAN', 'ARG',\n",
       "       'SLO', 'GRE', 'TJK', 'PAR', 'SRB', 'DEN', 'ITA', 'VEN', 'BRA',\n",
       "       'SUI', 'BIH', 'CHI', 'MKD', 'AUS', 'CUB', 'MDA', 'ISL', 'BEL',\n",
       "       'FIN', 'INA', 'SVK', 'MEX', 'PHI', 'MAR', 'SCO', 'LTU', 'QAT',\n",
       "       'FAI', 'MGL', 'TKM', 'EST', 'ALB', 'MNE', 'MAS', 'POR', 'KGZ',\n",
       "       'NZL', 'COL', 'MYA', 'SGP', 'ALG', 'ECU', 'AND', 'TPE', 'URU',\n",
       "       'WLS', 'IRL', 'KOR', 'MNC', 'BAN', 'CRC', 'CPV', 'ZAM', 'LUX',\n",
       "       'BOL', 'YEM', 'DOM', 'RSA', 'ZIM', 'MAD', 'JPN', 'ARU', 'KOS',\n",
       "       'HKG', 'PAN', 'TUN', 'SRI', 'UGA', 'IRQ', 'JOR', 'ANG', 'SYR',\n",
       "       'GUA', 'MLT', 'BRU', 'HON', 'PUR', 'NGR', 'CAM', 'PAK', 'BAR',\n",
       "       'LBN', 'ESA', 'NCA', 'TTO', 'LBA', 'THA', 'KUW', 'CYP', 'SSD',\n",
       "       'SUD', 'NEP', 'BDI', 'BRN', 'MOZ', 'AHO', 'JAM', 'IVB', 'SUR',\n",
       "       'BER', 'NAM', 'KEN', 'FIJ', 'BOT', 'GAM', 'PNG', 'PLE', 'ETH',\n",
       "       'MAC', 'SOM', 'SEY', 'JCI', 'MRI', 'LCA', 'AFG', 'MLI', 'ISV',\n",
       "       'SMR', 'TOG', 'MAW', 'LIE', 'GAB', 'GCI', 'OMA', 'CIV', 'KSA',\n",
       "       'SEN', 'HAI', 'CMR', 'MTN', 'LBR', 'GHA', 'GUM', 'ERI', 'GUY',\n",
       "       'DJI', 'SLE', 'SOL', 'MDV', 'STP', 'RWA', 'BAH', 'TAN', 'PLW',\n",
       "       'LES', 'COD', 'TLS', 'NRU', 'Ind', 'CAF', 'BUR', 'SWZ', 'BHU',\n",
       "       'CAY', 'LAO', 'ANT', 'CHA', 'COM', 'GRN', 'CGO', 'GEQ', 'SKN'],\n",
       "      dtype=object)"
      ]
     },
     "execution_count": 20,
     "metadata": {},
     "output_type": "execute_result"
    }
   ],
   "source": [
    "data_2020['Federation'].unique()"
   ]
  },
  {
   "cell_type": "code",
   "execution_count": 21,
   "id": "12d3c995-d807-4474-a9fd-f3e436146bdb",
   "metadata": {
    "execution": {
     "iopub.execute_input": "2023-08-18T08:27:30.174655Z",
     "iopub.status.busy": "2023-08-18T08:27:30.174655Z",
     "iopub.status.idle": "2023-08-18T08:27:30.235659Z",
     "shell.execute_reply": "2023-08-18T08:27:30.234655Z",
     "shell.execute_reply.started": "2023-08-18T08:27:30.174655Z"
    }
   },
   "outputs": [
    {
     "data": {
      "text/plain": [
       "array(['GM', 'IM', 'FM', nan, 'WGM', 'CM', 'WFM', 'WIM', 'WCM', 'WH'],\n",
       "      dtype=object)"
      ]
     },
     "execution_count": 21,
     "metadata": {},
     "output_type": "execute_result"
    }
   ],
   "source": [
    "data_2020['Title'].unique()"
   ]
  },
  {
   "cell_type": "code",
   "execution_count": 22,
   "id": "4a52d805-723f-423c-9878-df330c1ae06b",
   "metadata": {
    "execution": {
     "iopub.execute_input": "2023-08-18T08:27:30.238663Z",
     "iopub.status.busy": "2023-08-18T08:27:30.236657Z",
     "iopub.status.idle": "2023-08-18T08:27:30.437657Z",
     "shell.execute_reply": "2023-08-18T08:27:30.436657Z",
     "shell.execute_reply.started": "2023-08-18T08:27:30.238663Z"
    },
    "tags": []
   },
   "outputs": [
    {
     "data": {
      "text/html": [
       "<div>\n",
       "<style scoped>\n",
       "    .dataframe tbody tr th:only-of-type {\n",
       "        vertical-align: middle;\n",
       "    }\n",
       "\n",
       "    .dataframe tbody tr th {\n",
       "        vertical-align: top;\n",
       "    }\n",
       "\n",
       "    .dataframe thead th {\n",
       "        text-align: right;\n",
       "    }\n",
       "</style>\n",
       "<table border=\"1\" class=\"dataframe\">\n",
       "  <thead>\n",
       "    <tr style=\"text-align: right;\">\n",
       "      <th></th>\n",
       "      <th>Fide id</th>\n",
       "      <th>Year_of_birth</th>\n",
       "      <th>Standard</th>\n",
       "      <th>Rapid</th>\n",
       "      <th>Blitz</th>\n",
       "    </tr>\n",
       "  </thead>\n",
       "  <tbody>\n",
       "    <tr>\n",
       "      <th>count</th>\n",
       "      <td>9.776870e+05</td>\n",
       "      <td>943585.000000</td>\n",
       "      <td>363294.000000</td>\n",
       "      <td>193348.000000</td>\n",
       "      <td>139184.000000</td>\n",
       "    </tr>\n",
       "    <tr>\n",
       "      <th>mean</th>\n",
       "      <td>2.919621e+07</td>\n",
       "      <td>1989.365212</td>\n",
       "      <td>1650.960343</td>\n",
       "      <td>1588.205014</td>\n",
       "      <td>1659.595758</td>\n",
       "    </tr>\n",
       "    <tr>\n",
       "      <th>std</th>\n",
       "      <td>8.039093e+07</td>\n",
       "      <td>19.693809</td>\n",
       "      <td>369.621131</td>\n",
       "      <td>341.257917</td>\n",
       "      <td>341.686065</td>\n",
       "    </tr>\n",
       "    <tr>\n",
       "      <th>min</th>\n",
       "      <td>1.000130e+05</td>\n",
       "      <td>1077.000000</td>\n",
       "      <td>0.000000</td>\n",
       "      <td>1000.000000</td>\n",
       "      <td>1000.000000</td>\n",
       "    </tr>\n",
       "    <tr>\n",
       "      <th>25%</th>\n",
       "      <td>4.107938e+06</td>\n",
       "      <td>1976.000000</td>\n",
       "      <td>1376.000000</td>\n",
       "      <td>1307.000000</td>\n",
       "      <td>1389.000000</td>\n",
       "    </tr>\n",
       "    <tr>\n",
       "      <th>50%</th>\n",
       "      <td>1.415789e+07</td>\n",
       "      <td>1997.000000</td>\n",
       "      <td>1665.000000</td>\n",
       "      <td>1571.000000</td>\n",
       "      <td>1661.000000</td>\n",
       "    </tr>\n",
       "    <tr>\n",
       "      <th>75%</th>\n",
       "      <td>2.992521e+07</td>\n",
       "      <td>2005.000000</td>\n",
       "      <td>1929.000000</td>\n",
       "      <td>1837.000000</td>\n",
       "      <td>1912.000000</td>\n",
       "    </tr>\n",
       "    <tr>\n",
       "      <th>max</th>\n",
       "      <td>7.060883e+08</td>\n",
       "      <td>2019.000000</td>\n",
       "      <td>2863.000000</td>\n",
       "      <td>2881.000000</td>\n",
       "      <td>2900.000000</td>\n",
       "    </tr>\n",
       "  </tbody>\n",
       "</table>\n",
       "</div>"
      ],
      "text/plain": [
       "            Fide id  Year_of_birth       Standard          Rapid  \\\n",
       "count  9.776870e+05  943585.000000  363294.000000  193348.000000   \n",
       "mean   2.919621e+07    1989.365212    1650.960343    1588.205014   \n",
       "std    8.039093e+07      19.693809     369.621131     341.257917   \n",
       "min    1.000130e+05    1077.000000       0.000000    1000.000000   \n",
       "25%    4.107938e+06    1976.000000    1376.000000    1307.000000   \n",
       "50%    1.415789e+07    1997.000000    1665.000000    1571.000000   \n",
       "75%    2.992521e+07    2005.000000    1929.000000    1837.000000   \n",
       "max    7.060883e+08    2019.000000    2863.000000    2881.000000   \n",
       "\n",
       "               Blitz  \n",
       "count  139184.000000  \n",
       "mean     1659.595758  \n",
       "std       341.686065  \n",
       "min      1000.000000  \n",
       "25%      1389.000000  \n",
       "50%      1661.000000  \n",
       "75%      1912.000000  \n",
       "max      2900.000000  "
      ]
     },
     "execution_count": 22,
     "metadata": {},
     "output_type": "execute_result"
    }
   ],
   "source": [
    "data_2020 = data_2020.rename(columns = {'Standard_Rating' : 'Standard', 'Blitz_rating' : 'Blitz', 'Rapid_rating': 'Rapid'})\n",
    "data_2020.describe()"
   ]
  },
  {
   "cell_type": "markdown",
   "id": "f7479e56-9c74-473d-a615-e397a4a08ce5",
   "metadata": {},
   "source": [
    "Yet again, there are people in this dataset living for more than 900 years and a chess prodigy born in 2019 :)\n",
    "\n",
    "Let's correct these obvious mistakes.\n",
    "\n",
    "We will use our previous findings for the oldest active chess player aged 103 years.\n",
    "\n",
    "Our new finding is the youngest active and rated for at least one chess game mode is 5 years old! Here is a [link](https://ratings.fide.com/profile/41875427)."
   ]
  },
  {
   "cell_type": "code",
   "execution_count": 23,
   "id": "634a352b-2a68-4e28-8fce-3530894fcf0e",
   "metadata": {
    "execution": {
     "iopub.execute_input": "2023-08-18T08:27:30.439659Z",
     "iopub.status.busy": "2023-08-18T08:27:30.438659Z",
     "iopub.status.idle": "2023-08-18T08:27:30.469656Z",
     "shell.execute_reply": "2023-08-18T08:27:30.467655Z",
     "shell.execute_reply.started": "2023-08-18T08:27:30.439659Z"
    },
    "tags": []
   },
   "outputs": [
    {
     "data": {
      "text/html": [
       "<div>\n",
       "<style scoped>\n",
       "    .dataframe tbody tr th:only-of-type {\n",
       "        vertical-align: middle;\n",
       "    }\n",
       "\n",
       "    .dataframe tbody tr th {\n",
       "        vertical-align: top;\n",
       "    }\n",
       "\n",
       "    .dataframe thead th {\n",
       "        text-align: right;\n",
       "    }\n",
       "</style>\n",
       "<table border=\"1\" class=\"dataframe\">\n",
       "  <thead>\n",
       "    <tr style=\"text-align: right;\">\n",
       "      <th></th>\n",
       "      <th>Fide id</th>\n",
       "      <th>Name</th>\n",
       "      <th>Federation</th>\n",
       "      <th>Gender</th>\n",
       "      <th>Year_of_birth</th>\n",
       "      <th>Title</th>\n",
       "      <th>Standard</th>\n",
       "      <th>Rapid</th>\n",
       "      <th>Blitz</th>\n",
       "      <th>Inactive_flag</th>\n",
       "    </tr>\n",
       "  </thead>\n",
       "  <tbody>\n",
       "    <tr>\n",
       "      <th>368918</th>\n",
       "      <td>366195114</td>\n",
       "      <td>Abhishek, Raj</td>\n",
       "      <td>FID</td>\n",
       "      <td>M</td>\n",
       "      <td>2018.0</td>\n",
       "      <td>NaN</td>\n",
       "      <td>NaN</td>\n",
       "      <td>NaN</td>\n",
       "      <td>NaN</td>\n",
       "      <td>NaN</td>\n",
       "    </tr>\n",
       "    <tr>\n",
       "      <th>405800</th>\n",
       "      <td>366126995</td>\n",
       "      <td>Arockiasamy, Kennady</td>\n",
       "      <td>FID</td>\n",
       "      <td>M</td>\n",
       "      <td>2018.0</td>\n",
       "      <td>NaN</td>\n",
       "      <td>NaN</td>\n",
       "      <td>NaN</td>\n",
       "      <td>NaN</td>\n",
       "      <td>NaN</td>\n",
       "    </tr>\n",
       "    <tr>\n",
       "      <th>529570</th>\n",
       "      <td>115203620</td>\n",
       "      <td>Etorma, Nino Renato</td>\n",
       "      <td>FID</td>\n",
       "      <td>M</td>\n",
       "      <td>2018.0</td>\n",
       "      <td>NaN</td>\n",
       "      <td>NaN</td>\n",
       "      <td>NaN</td>\n",
       "      <td>NaN</td>\n",
       "      <td>NaN</td>\n",
       "    </tr>\n",
       "    <tr>\n",
       "      <th>542628</th>\n",
       "      <td>150268045</td>\n",
       "      <td>Francis, Anthony</td>\n",
       "      <td>USA</td>\n",
       "      <td>M</td>\n",
       "      <td>2018.0</td>\n",
       "      <td>NaN</td>\n",
       "      <td>NaN</td>\n",
       "      <td>NaN</td>\n",
       "      <td>NaN</td>\n",
       "      <td>NaN</td>\n",
       "    </tr>\n",
       "    <tr>\n",
       "      <th>607694</th>\n",
       "      <td>366126921</td>\n",
       "      <td>Jain, Sachin</td>\n",
       "      <td>FID</td>\n",
       "      <td>M</td>\n",
       "      <td>2019.0</td>\n",
       "      <td>NaN</td>\n",
       "      <td>NaN</td>\n",
       "      <td>NaN</td>\n",
       "      <td>NaN</td>\n",
       "      <td>NaN</td>\n",
       "    </tr>\n",
       "    <tr>\n",
       "      <th>640025</th>\n",
       "      <td>366130316</td>\n",
       "      <td>Kinkhabwala, Hemantkumar</td>\n",
       "      <td>FID</td>\n",
       "      <td>M</td>\n",
       "      <td>2018.0</td>\n",
       "      <td>NaN</td>\n",
       "      <td>NaN</td>\n",
       "      <td>NaN</td>\n",
       "      <td>NaN</td>\n",
       "      <td>NaN</td>\n",
       "    </tr>\n",
       "    <tr>\n",
       "      <th>737551</th>\n",
       "      <td>366127080</td>\n",
       "      <td>Mukherjee, Kaustav</td>\n",
       "      <td>FID</td>\n",
       "      <td>M</td>\n",
       "      <td>2018.0</td>\n",
       "      <td>NaN</td>\n",
       "      <td>NaN</td>\n",
       "      <td>NaN</td>\n",
       "      <td>NaN</td>\n",
       "      <td>NaN</td>\n",
       "    </tr>\n",
       "    <tr>\n",
       "      <th>763375</th>\n",
       "      <td>108217779</td>\n",
       "      <td>Olufemi, Abiona</td>\n",
       "      <td>FID</td>\n",
       "      <td>M</td>\n",
       "      <td>2019.0</td>\n",
       "      <td>NaN</td>\n",
       "      <td>NaN</td>\n",
       "      <td>NaN</td>\n",
       "      <td>NaN</td>\n",
       "      <td>NaN</td>\n",
       "    </tr>\n",
       "    <tr>\n",
       "      <th>885219</th>\n",
       "      <td>109181376</td>\n",
       "      <td>Solheim, Emil</td>\n",
       "      <td>NOR</td>\n",
       "      <td>M</td>\n",
       "      <td>2019.0</td>\n",
       "      <td>NaN</td>\n",
       "      <td>NaN</td>\n",
       "      <td>NaN</td>\n",
       "      <td>NaN</td>\n",
       "      <td>NaN</td>\n",
       "    </tr>\n",
       "    <tr>\n",
       "      <th>930659</th>\n",
       "      <td>384296939</td>\n",
       "      <td>Uskacs, Vjaceslavs</td>\n",
       "      <td>FID</td>\n",
       "      <td>M</td>\n",
       "      <td>2018.0</td>\n",
       "      <td>NaN</td>\n",
       "      <td>NaN</td>\n",
       "      <td>NaN</td>\n",
       "      <td>NaN</td>\n",
       "      <td>NaN</td>\n",
       "    </tr>\n",
       "  </tbody>\n",
       "</table>\n",
       "</div>"
      ],
      "text/plain": [
       "          Fide id                      Name Federation Gender  Year_of_birth  \\\n",
       "368918  366195114             Abhishek, Raj        FID      M         2018.0   \n",
       "405800  366126995      Arockiasamy, Kennady        FID      M         2018.0   \n",
       "529570  115203620       Etorma, Nino Renato        FID      M         2018.0   \n",
       "542628  150268045          Francis, Anthony        USA      M         2018.0   \n",
       "607694  366126921              Jain, Sachin        FID      M         2019.0   \n",
       "640025  366130316  Kinkhabwala, Hemantkumar        FID      M         2018.0   \n",
       "737551  366127080        Mukherjee, Kaustav        FID      M         2018.0   \n",
       "763375  108217779           Olufemi, Abiona        FID      M         2019.0   \n",
       "885219  109181376             Solheim, Emil        NOR      M         2019.0   \n",
       "930659  384296939        Uskacs, Vjaceslavs        FID      M         2018.0   \n",
       "\n",
       "       Title  Standard  Rapid  Blitz Inactive_flag  \n",
       "368918   NaN       NaN    NaN    NaN           NaN  \n",
       "405800   NaN       NaN    NaN    NaN           NaN  \n",
       "529570   NaN       NaN    NaN    NaN           NaN  \n",
       "542628   NaN       NaN    NaN    NaN           NaN  \n",
       "607694   NaN       NaN    NaN    NaN           NaN  \n",
       "640025   NaN       NaN    NaN    NaN           NaN  \n",
       "737551   NaN       NaN    NaN    NaN           NaN  \n",
       "763375   NaN       NaN    NaN    NaN           NaN  \n",
       "885219   NaN       NaN    NaN    NaN           NaN  \n",
       "930659   NaN       NaN    NaN    NaN           NaN  "
      ]
     },
     "execution_count": 23,
     "metadata": {},
     "output_type": "execute_result"
    }
   ],
   "source": [
    "data_2020[data_2020['Year_of_birth'] >= 2018]"
   ]
  },
  {
   "cell_type": "markdown",
   "id": "66e72821-be61-412f-b93e-04de33e02f82",
   "metadata": {},
   "source": [
    "The interesting thing here is that these players are in the FIDE database and they are indeed unrated for all game modes. \n",
    "\n",
    "[Here](https://ratings.fide.com/profile/108217779) you can see one of the profiles in the FIDE website."
   ]
  },
  {
   "cell_type": "markdown",
   "id": "f19ecdc0-4e4b-4c7e-8488-511fe51889db",
   "metadata": {},
   "source": [
    "Since our research found that there are players born 2019, let's look at the oldest players in this dataset."
   ]
  },
  {
   "cell_type": "code",
   "execution_count": 24,
   "id": "c0bbc4f6-2579-48ea-9cb5-cf58d2516d76",
   "metadata": {
    "execution": {
     "iopub.execute_input": "2023-08-18T08:27:30.471657Z",
     "iopub.status.busy": "2023-08-18T08:27:30.470662Z",
     "iopub.status.idle": "2023-08-18T08:27:30.504664Z",
     "shell.execute_reply": "2023-08-18T08:27:30.500687Z",
     "shell.execute_reply.started": "2023-08-18T08:27:30.470662Z"
    },
    "tags": []
   },
   "outputs": [
    {
     "data": {
      "text/html": [
       "<div>\n",
       "<style scoped>\n",
       "    .dataframe tbody tr th:only-of-type {\n",
       "        vertical-align: middle;\n",
       "    }\n",
       "\n",
       "    .dataframe tbody tr th {\n",
       "        vertical-align: top;\n",
       "    }\n",
       "\n",
       "    .dataframe thead th {\n",
       "        text-align: right;\n",
       "    }\n",
       "</style>\n",
       "<table border=\"1\" class=\"dataframe\">\n",
       "  <thead>\n",
       "    <tr style=\"text-align: right;\">\n",
       "      <th></th>\n",
       "      <th>Fide id</th>\n",
       "      <th>Name</th>\n",
       "      <th>Federation</th>\n",
       "      <th>Gender</th>\n",
       "      <th>Year_of_birth</th>\n",
       "      <th>Title</th>\n",
       "      <th>Standard</th>\n",
       "      <th>Rapid</th>\n",
       "      <th>Blitz</th>\n",
       "      <th>Inactive_flag</th>\n",
       "    </tr>\n",
       "  </thead>\n",
       "  <tbody>\n",
       "    <tr>\n",
       "      <th>165480</th>\n",
       "      <td>202983</td>\n",
       "      <td>Demoulin, Paul</td>\n",
       "      <td>BEL</td>\n",
       "      <td>M</td>\n",
       "      <td>1919.0</td>\n",
       "      <td>NaN</td>\n",
       "      <td>1711.0</td>\n",
       "      <td>NaN</td>\n",
       "      <td>NaN</td>\n",
       "      <td>i</td>\n",
       "    </tr>\n",
       "    <tr>\n",
       "      <th>368106</th>\n",
       "      <td>1765671</td>\n",
       "      <td>Aberg, Per</td>\n",
       "      <td>SWE</td>\n",
       "      <td>M</td>\n",
       "      <td>1077.0</td>\n",
       "      <td>NaN</td>\n",
       "      <td>NaN</td>\n",
       "      <td>NaN</td>\n",
       "      <td>NaN</td>\n",
       "      <td>NaN</td>\n",
       "    </tr>\n",
       "    <tr>\n",
       "      <th>480201</th>\n",
       "      <td>213543</td>\n",
       "      <td>Claeys, Joseph</td>\n",
       "      <td>BEL</td>\n",
       "      <td>M</td>\n",
       "      <td>1915.0</td>\n",
       "      <td>NaN</td>\n",
       "      <td>NaN</td>\n",
       "      <td>NaN</td>\n",
       "      <td>NaN</td>\n",
       "      <td>NaN</td>\n",
       "    </tr>\n",
       "    <tr>\n",
       "      <th>829009</th>\n",
       "      <td>14343118</td>\n",
       "      <td>Roman, Fabian</td>\n",
       "      <td>RSA</td>\n",
       "      <td>M</td>\n",
       "      <td>1900.0</td>\n",
       "      <td>NaN</td>\n",
       "      <td>NaN</td>\n",
       "      <td>NaN</td>\n",
       "      <td>NaN</td>\n",
       "      <td>NaN</td>\n",
       "    </tr>\n",
       "    <tr>\n",
       "      <th>837272</th>\n",
       "      <td>9017283</td>\n",
       "      <td>SABRI ABDELAZIZ</td>\n",
       "      <td>MAR</td>\n",
       "      <td>M</td>\n",
       "      <td>1883.0</td>\n",
       "      <td>NaN</td>\n",
       "      <td>NaN</td>\n",
       "      <td>NaN</td>\n",
       "      <td>NaN</td>\n",
       "      <td>NaN</td>\n",
       "    </tr>\n",
       "    <tr>\n",
       "      <th>958323</th>\n",
       "      <td>1672851</td>\n",
       "      <td>Wrulich, Christian</td>\n",
       "      <td>AUT</td>\n",
       "      <td>M</td>\n",
       "      <td>1874.0</td>\n",
       "      <td>NaN</td>\n",
       "      <td>NaN</td>\n",
       "      <td>NaN</td>\n",
       "      <td>NaN</td>\n",
       "      <td>NaN</td>\n",
       "    </tr>\n",
       "  </tbody>\n",
       "</table>\n",
       "</div>"
      ],
      "text/plain": [
       "         Fide id                Name Federation Gender  Year_of_birth Title  \\\n",
       "165480    202983      Demoulin, Paul        BEL      M         1919.0   NaN   \n",
       "368106   1765671          Aberg, Per        SWE      M         1077.0   NaN   \n",
       "480201    213543      Claeys, Joseph        BEL      M         1915.0   NaN   \n",
       "829009  14343118       Roman, Fabian        RSA      M         1900.0   NaN   \n",
       "837272   9017283     SABRI ABDELAZIZ        MAR      M         1883.0   NaN   \n",
       "958323   1672851  Wrulich, Christian        AUT      M         1874.0   NaN   \n",
       "\n",
       "        Standard  Rapid  Blitz Inactive_flag  \n",
       "165480    1711.0    NaN    NaN             i  \n",
       "368106       NaN    NaN    NaN           NaN  \n",
       "480201       NaN    NaN    NaN           NaN  \n",
       "829009       NaN    NaN    NaN           NaN  \n",
       "837272       NaN    NaN    NaN           NaN  \n",
       "958323       NaN    NaN    NaN           NaN  "
      ]
     },
     "execution_count": 24,
     "metadata": {},
     "output_type": "execute_result"
    }
   ],
   "source": [
    "data_2020[data_2020['Year_of_birth'] < 1920]"
   ]
  },
  {
   "cell_type": "markdown",
   "id": "e5e6de63-d2c0-4724-bc42-47d3d9b776af",
   "metadata": {},
   "source": [
    "We can conclude that these players are not active anymore. Player Joseph Claeys has a FIDE [profile](https://ratings.fide.com/profile/213543), so we will leave him in the dataset. Let's remove everyone older than him from the dataset entirely. The argument for removing these values is that they don't have any information for rating, title and they are definitely inactive, based on their age. They are more of an outlier, than anything else and they do not have a FIDE profile."
   ]
  },
  {
   "cell_type": "code",
   "execution_count": 25,
   "id": "76937e91-38ac-417c-bdd7-8a74b625bbfb",
   "metadata": {
    "execution": {
     "iopub.execute_input": "2023-08-18T08:27:30.507667Z",
     "iopub.status.busy": "2023-08-18T08:27:30.506666Z",
     "iopub.status.idle": "2023-08-18T08:27:30.718657Z",
     "shell.execute_reply": "2023-08-18T08:27:30.717687Z",
     "shell.execute_reply.started": "2023-08-18T08:27:30.507667Z"
    },
    "tags": []
   },
   "outputs": [
    {
     "data": {
      "text/html": [
       "<div>\n",
       "<style scoped>\n",
       "    .dataframe tbody tr th:only-of-type {\n",
       "        vertical-align: middle;\n",
       "    }\n",
       "\n",
       "    .dataframe tbody tr th {\n",
       "        vertical-align: top;\n",
       "    }\n",
       "\n",
       "    .dataframe thead th {\n",
       "        text-align: right;\n",
       "    }\n",
       "</style>\n",
       "<table border=\"1\" class=\"dataframe\">\n",
       "  <thead>\n",
       "    <tr style=\"text-align: right;\">\n",
       "      <th></th>\n",
       "      <th>Fide id</th>\n",
       "      <th>Name</th>\n",
       "      <th>Federation</th>\n",
       "      <th>Gender</th>\n",
       "      <th>Year_of_birth</th>\n",
       "      <th>Title</th>\n",
       "      <th>Standard</th>\n",
       "      <th>Rapid</th>\n",
       "      <th>Blitz</th>\n",
       "      <th>Inactive_flag</th>\n",
       "    </tr>\n",
       "  </thead>\n",
       "  <tbody>\n",
       "    <tr>\n",
       "      <th>0</th>\n",
       "      <td>1503014</td>\n",
       "      <td>Carlsen, Magnus</td>\n",
       "      <td>NOR</td>\n",
       "      <td>M</td>\n",
       "      <td>1990.0</td>\n",
       "      <td>GM</td>\n",
       "      <td>2863.0</td>\n",
       "      <td>2881.0</td>\n",
       "      <td>2886.0</td>\n",
       "      <td>NaN</td>\n",
       "    </tr>\n",
       "    <tr>\n",
       "      <th>1</th>\n",
       "      <td>2020009</td>\n",
       "      <td>Caruana, Fabiano</td>\n",
       "      <td>USA</td>\n",
       "      <td>M</td>\n",
       "      <td>1992.0</td>\n",
       "      <td>GM</td>\n",
       "      <td>2835.0</td>\n",
       "      <td>2773.0</td>\n",
       "      <td>2711.0</td>\n",
       "      <td>NaN</td>\n",
       "    </tr>\n",
       "    <tr>\n",
       "      <th>2</th>\n",
       "      <td>4100018</td>\n",
       "      <td>Kasparov, Garry</td>\n",
       "      <td>RUS</td>\n",
       "      <td>M</td>\n",
       "      <td>1963.0</td>\n",
       "      <td>GM</td>\n",
       "      <td>2812.0</td>\n",
       "      <td>2783.0</td>\n",
       "      <td>2801.0</td>\n",
       "      <td>i</td>\n",
       "    </tr>\n",
       "    <tr>\n",
       "      <th>3</th>\n",
       "      <td>8603677</td>\n",
       "      <td>Ding, Liren</td>\n",
       "      <td>CHN</td>\n",
       "      <td>M</td>\n",
       "      <td>1992.0</td>\n",
       "      <td>GM</td>\n",
       "      <td>2791.0</td>\n",
       "      <td>2836.0</td>\n",
       "      <td>2788.0</td>\n",
       "      <td>NaN</td>\n",
       "    </tr>\n",
       "    <tr>\n",
       "      <th>4</th>\n",
       "      <td>4168119</td>\n",
       "      <td>Nepomniachtchi, Ian</td>\n",
       "      <td>RUS</td>\n",
       "      <td>M</td>\n",
       "      <td>1990.0</td>\n",
       "      <td>GM</td>\n",
       "      <td>2784.0</td>\n",
       "      <td>2778.0</td>\n",
       "      <td>2785.0</td>\n",
       "      <td>NaN</td>\n",
       "    </tr>\n",
       "    <tr>\n",
       "      <th>...</th>\n",
       "      <td>...</td>\n",
       "      <td>...</td>\n",
       "      <td>...</td>\n",
       "      <td>...</td>\n",
       "      <td>...</td>\n",
       "      <td>...</td>\n",
       "      <td>...</td>\n",
       "      <td>...</td>\n",
       "      <td>...</td>\n",
       "      <td>...</td>\n",
       "    </tr>\n",
       "    <tr>\n",
       "      <th>977678</th>\n",
       "      <td>21024650</td>\n",
       "      <td>Zywicka, Amelia</td>\n",
       "      <td>POL</td>\n",
       "      <td>F</td>\n",
       "      <td>2009.0</td>\n",
       "      <td>NaN</td>\n",
       "      <td>NaN</td>\n",
       "      <td>NaN</td>\n",
       "      <td>NaN</td>\n",
       "      <td>NaN</td>\n",
       "    </tr>\n",
       "    <tr>\n",
       "      <th>977679</th>\n",
       "      <td>21038465</td>\n",
       "      <td>Zyzanski, Alan</td>\n",
       "      <td>POL</td>\n",
       "      <td>M</td>\n",
       "      <td>2009.0</td>\n",
       "      <td>NaN</td>\n",
       "      <td>NaN</td>\n",
       "      <td>NaN</td>\n",
       "      <td>NaN</td>\n",
       "      <td>NaN</td>\n",
       "    </tr>\n",
       "    <tr>\n",
       "      <th>977680</th>\n",
       "      <td>21038473</td>\n",
       "      <td>Zyzanski, Sebastian</td>\n",
       "      <td>POL</td>\n",
       "      <td>M</td>\n",
       "      <td>1976.0</td>\n",
       "      <td>NaN</td>\n",
       "      <td>NaN</td>\n",
       "      <td>1469.0</td>\n",
       "      <td>NaN</td>\n",
       "      <td>NaN</td>\n",
       "    </tr>\n",
       "    <tr>\n",
       "      <th>977681</th>\n",
       "      <td>21052492</td>\n",
       "      <td>Zyzik, Adam</td>\n",
       "      <td>POL</td>\n",
       "      <td>M</td>\n",
       "      <td>2010.0</td>\n",
       "      <td>NaN</td>\n",
       "      <td>NaN</td>\n",
       "      <td>NaN</td>\n",
       "      <td>NaN</td>\n",
       "      <td>NaN</td>\n",
       "    </tr>\n",
       "    <tr>\n",
       "      <th>977682</th>\n",
       "      <td>21045437</td>\n",
       "      <td>Zyzniewski, Tomasz</td>\n",
       "      <td>POL</td>\n",
       "      <td>M</td>\n",
       "      <td>1988.0</td>\n",
       "      <td>NaN</td>\n",
       "      <td>NaN</td>\n",
       "      <td>NaN</td>\n",
       "      <td>NaN</td>\n",
       "      <td>NaN</td>\n",
       "    </tr>\n",
       "  </tbody>\n",
       "</table>\n",
       "<p>977683 rows × 10 columns</p>\n",
       "</div>"
      ],
      "text/plain": [
       "         Fide id                 Name Federation Gender  Year_of_birth Title  \\\n",
       "0        1503014      Carlsen, Magnus        NOR      M         1990.0    GM   \n",
       "1        2020009     Caruana, Fabiano        USA      M         1992.0    GM   \n",
       "2        4100018      Kasparov, Garry        RUS      M         1963.0    GM   \n",
       "3        8603677          Ding, Liren        CHN      M         1992.0    GM   \n",
       "4        4168119  Nepomniachtchi, Ian        RUS      M         1990.0    GM   \n",
       "...          ...                  ...        ...    ...            ...   ...   \n",
       "977678  21024650      Zywicka, Amelia        POL      F         2009.0   NaN   \n",
       "977679  21038465       Zyzanski, Alan        POL      M         2009.0   NaN   \n",
       "977680  21038473  Zyzanski, Sebastian        POL      M         1976.0   NaN   \n",
       "977681  21052492          Zyzik, Adam        POL      M         2010.0   NaN   \n",
       "977682  21045437   Zyzniewski, Tomasz        POL      M         1988.0   NaN   \n",
       "\n",
       "        Standard   Rapid   Blitz Inactive_flag  \n",
       "0         2863.0  2881.0  2886.0           NaN  \n",
       "1         2835.0  2773.0  2711.0           NaN  \n",
       "2         2812.0  2783.0  2801.0             i  \n",
       "3         2791.0  2836.0  2788.0           NaN  \n",
       "4         2784.0  2778.0  2785.0           NaN  \n",
       "...          ...     ...     ...           ...  \n",
       "977678       NaN     NaN     NaN           NaN  \n",
       "977679       NaN     NaN     NaN           NaN  \n",
       "977680       NaN  1469.0     NaN           NaN  \n",
       "977681       NaN     NaN     NaN           NaN  \n",
       "977682       NaN     NaN     NaN           NaN  \n",
       "\n",
       "[977683 rows x 10 columns]"
      ]
     },
     "execution_count": 25,
     "metadata": {},
     "output_type": "execute_result"
    }
   ],
   "source": [
    "data_2020.drop(data_2020[data_2020['Year_of_birth'] < 1915].index, inplace = True)\n",
    "data_2020.reset_index(drop = True)"
   ]
  },
  {
   "cell_type": "code",
   "execution_count": 26,
   "id": "2d3104d0-0b89-4a05-952a-f08cf5a9ede2",
   "metadata": {
    "execution": {
     "iopub.execute_input": "2023-08-18T08:27:30.719655Z",
     "iopub.status.busy": "2023-08-18T08:27:30.719655Z",
     "iopub.status.idle": "2023-08-18T08:27:30.844657Z",
     "shell.execute_reply": "2023-08-18T08:27:30.843689Z",
     "shell.execute_reply.started": "2023-08-18T08:27:30.719655Z"
    },
    "tags": []
   },
   "outputs": [
    {
     "data": {
      "text/html": [
       "<div>\n",
       "<style scoped>\n",
       "    .dataframe tbody tr th:only-of-type {\n",
       "        vertical-align: middle;\n",
       "    }\n",
       "\n",
       "    .dataframe tbody tr th {\n",
       "        vertical-align: top;\n",
       "    }\n",
       "\n",
       "    .dataframe thead th {\n",
       "        text-align: right;\n",
       "    }\n",
       "</style>\n",
       "<table border=\"1\" class=\"dataframe\">\n",
       "  <thead>\n",
       "    <tr style=\"text-align: right;\">\n",
       "      <th></th>\n",
       "      <th>Name</th>\n",
       "      <th>Federation</th>\n",
       "      <th>Gender</th>\n",
       "      <th>Year_of_birth</th>\n",
       "      <th>Title</th>\n",
       "      <th>Standard</th>\n",
       "      <th>Rapid</th>\n",
       "      <th>Blitz</th>\n",
       "      <th>Inactive_flag</th>\n",
       "    </tr>\n",
       "  </thead>\n",
       "  <tbody>\n",
       "    <tr>\n",
       "      <th>0</th>\n",
       "      <td>Carlsen, Magnus</td>\n",
       "      <td>NOR</td>\n",
       "      <td>M</td>\n",
       "      <td>1990.0</td>\n",
       "      <td>GM</td>\n",
       "      <td>2863.0</td>\n",
       "      <td>2881.0</td>\n",
       "      <td>2886.0</td>\n",
       "      <td>NaN</td>\n",
       "    </tr>\n",
       "    <tr>\n",
       "      <th>1</th>\n",
       "      <td>Caruana, Fabiano</td>\n",
       "      <td>USA</td>\n",
       "      <td>M</td>\n",
       "      <td>1992.0</td>\n",
       "      <td>GM</td>\n",
       "      <td>2835.0</td>\n",
       "      <td>2773.0</td>\n",
       "      <td>2711.0</td>\n",
       "      <td>NaN</td>\n",
       "    </tr>\n",
       "    <tr>\n",
       "      <th>2</th>\n",
       "      <td>Kasparov, Garry</td>\n",
       "      <td>RUS</td>\n",
       "      <td>M</td>\n",
       "      <td>1963.0</td>\n",
       "      <td>GM</td>\n",
       "      <td>2812.0</td>\n",
       "      <td>2783.0</td>\n",
       "      <td>2801.0</td>\n",
       "      <td>i</td>\n",
       "    </tr>\n",
       "    <tr>\n",
       "      <th>3</th>\n",
       "      <td>Ding, Liren</td>\n",
       "      <td>CHN</td>\n",
       "      <td>M</td>\n",
       "      <td>1992.0</td>\n",
       "      <td>GM</td>\n",
       "      <td>2791.0</td>\n",
       "      <td>2836.0</td>\n",
       "      <td>2788.0</td>\n",
       "      <td>NaN</td>\n",
       "    </tr>\n",
       "    <tr>\n",
       "      <th>4</th>\n",
       "      <td>Nepomniachtchi, Ian</td>\n",
       "      <td>RUS</td>\n",
       "      <td>M</td>\n",
       "      <td>1990.0</td>\n",
       "      <td>GM</td>\n",
       "      <td>2784.0</td>\n",
       "      <td>2778.0</td>\n",
       "      <td>2785.0</td>\n",
       "      <td>NaN</td>\n",
       "    </tr>\n",
       "    <tr>\n",
       "      <th>...</th>\n",
       "      <td>...</td>\n",
       "      <td>...</td>\n",
       "      <td>...</td>\n",
       "      <td>...</td>\n",
       "      <td>...</td>\n",
       "      <td>...</td>\n",
       "      <td>...</td>\n",
       "      <td>...</td>\n",
       "      <td>...</td>\n",
       "    </tr>\n",
       "    <tr>\n",
       "      <th>977682</th>\n",
       "      <td>Zywicka, Amelia</td>\n",
       "      <td>POL</td>\n",
       "      <td>F</td>\n",
       "      <td>2009.0</td>\n",
       "      <td>NaN</td>\n",
       "      <td>NaN</td>\n",
       "      <td>NaN</td>\n",
       "      <td>NaN</td>\n",
       "      <td>NaN</td>\n",
       "    </tr>\n",
       "    <tr>\n",
       "      <th>977683</th>\n",
       "      <td>Zyzanski, Alan</td>\n",
       "      <td>POL</td>\n",
       "      <td>M</td>\n",
       "      <td>2009.0</td>\n",
       "      <td>NaN</td>\n",
       "      <td>NaN</td>\n",
       "      <td>NaN</td>\n",
       "      <td>NaN</td>\n",
       "      <td>NaN</td>\n",
       "    </tr>\n",
       "    <tr>\n",
       "      <th>977684</th>\n",
       "      <td>Zyzanski, Sebastian</td>\n",
       "      <td>POL</td>\n",
       "      <td>M</td>\n",
       "      <td>1976.0</td>\n",
       "      <td>NaN</td>\n",
       "      <td>NaN</td>\n",
       "      <td>1469.0</td>\n",
       "      <td>NaN</td>\n",
       "      <td>NaN</td>\n",
       "    </tr>\n",
       "    <tr>\n",
       "      <th>977685</th>\n",
       "      <td>Zyzik, Adam</td>\n",
       "      <td>POL</td>\n",
       "      <td>M</td>\n",
       "      <td>2010.0</td>\n",
       "      <td>NaN</td>\n",
       "      <td>NaN</td>\n",
       "      <td>NaN</td>\n",
       "      <td>NaN</td>\n",
       "      <td>NaN</td>\n",
       "    </tr>\n",
       "    <tr>\n",
       "      <th>977686</th>\n",
       "      <td>Zyzniewski, Tomasz</td>\n",
       "      <td>POL</td>\n",
       "      <td>M</td>\n",
       "      <td>1988.0</td>\n",
       "      <td>NaN</td>\n",
       "      <td>NaN</td>\n",
       "      <td>NaN</td>\n",
       "      <td>NaN</td>\n",
       "      <td>NaN</td>\n",
       "    </tr>\n",
       "  </tbody>\n",
       "</table>\n",
       "<p>977683 rows × 9 columns</p>\n",
       "</div>"
      ],
      "text/plain": [
       "                       Name Federation Gender  Year_of_birth Title  Standard  \\\n",
       "0           Carlsen, Magnus        NOR      M         1990.0    GM    2863.0   \n",
       "1          Caruana, Fabiano        USA      M         1992.0    GM    2835.0   \n",
       "2           Kasparov, Garry        RUS      M         1963.0    GM    2812.0   \n",
       "3               Ding, Liren        CHN      M         1992.0    GM    2791.0   \n",
       "4       Nepomniachtchi, Ian        RUS      M         1990.0    GM    2784.0   \n",
       "...                     ...        ...    ...            ...   ...       ...   \n",
       "977682      Zywicka, Amelia        POL      F         2009.0   NaN       NaN   \n",
       "977683       Zyzanski, Alan        POL      M         2009.0   NaN       NaN   \n",
       "977684  Zyzanski, Sebastian        POL      M         1976.0   NaN       NaN   \n",
       "977685          Zyzik, Adam        POL      M         2010.0   NaN       NaN   \n",
       "977686   Zyzniewski, Tomasz        POL      M         1988.0   NaN       NaN   \n",
       "\n",
       "         Rapid   Blitz Inactive_flag  \n",
       "0       2881.0  2886.0           NaN  \n",
       "1       2773.0  2711.0           NaN  \n",
       "2       2783.0  2801.0             i  \n",
       "3       2836.0  2788.0           NaN  \n",
       "4       2778.0  2785.0           NaN  \n",
       "...        ...     ...           ...  \n",
       "977682     NaN     NaN           NaN  \n",
       "977683     NaN     NaN           NaN  \n",
       "977684  1469.0     NaN           NaN  \n",
       "977685     NaN     NaN           NaN  \n",
       "977686     NaN     NaN           NaN  \n",
       "\n",
       "[977683 rows x 9 columns]"
      ]
     },
     "execution_count": 26,
     "metadata": {},
     "output_type": "execute_result"
    }
   ],
   "source": [
    "data_2020.drop('Fide id', axis = 1, inplace = True)\n",
    "data_2020"
   ]
  },
  {
   "cell_type": "markdown",
   "id": "d8f5c2f7-bfb6-4581-b83b-32defc1596d9",
   "metadata": {},
   "source": [
    "Now we face an interesting problem:\n",
    "\n",
    "How can we compare the ELO rating in the previous dataset to three different ratings in this one? Fortunately for us, in the second dataset the ratings are given by FIDE itself, we don't have to worry for any kind of inaccuracy, cheating or missmatch of skill level, as that would cause a gap in ratings. For example if one of the datasets contained rankings from [chess.com](https://www.chess.com) or other online platform, they could contain inaccurate information for reasons mentioned above.\n",
    "\n",
    "As a solution, we can create a new column and get the average from the other three types of chess modes.\n",
    "\n",
    "Before that, we need to only use players for this calculation that are rated in all three game modes. Otherwise someone could be rated in Standard and Blitz, but has 0 in Rapid, so his average from the 3 woudn't be correct to be compared with players which are rated in all modes."
   ]
  },
  {
   "cell_type": "code",
   "execution_count": 27,
   "id": "00c03786-df97-4e2d-9491-404275c63de4",
   "metadata": {
    "execution": {
     "iopub.execute_input": "2023-08-18T08:27:30.846657Z",
     "iopub.status.busy": "2023-08-18T08:27:30.845657Z",
     "iopub.status.idle": "2023-08-18T08:27:30.876658Z",
     "shell.execute_reply": "2023-08-18T08:27:30.875657Z",
     "shell.execute_reply.started": "2023-08-18T08:27:30.846657Z"
    },
    "tags": []
   },
   "outputs": [],
   "source": [
    "data_2020_rated = data_2020[(data_2020['Standard'].notna()) & (data_2020['Rapid'].notna()) & (data_2020['Blitz'].notna())]"
   ]
  },
  {
   "cell_type": "code",
   "execution_count": 28,
   "id": "53f96485-23e2-41bc-bdb3-0e89da055f8d",
   "metadata": {
    "execution": {
     "iopub.execute_input": "2023-08-18T08:27:30.879656Z",
     "iopub.status.busy": "2023-08-18T08:27:30.878664Z",
     "iopub.status.idle": "2023-08-18T08:27:30.906656Z",
     "shell.execute_reply": "2023-08-18T08:27:30.905822Z",
     "shell.execute_reply.started": "2023-08-18T08:27:30.879656Z"
    },
    "tags": []
   },
   "outputs": [],
   "source": [
    "data_2020_rated = data_2020_rated[(data_2020_rated['Standard'] != 0.0) & (data_2020_rated['Rapid'] != 0.0) & (data_2020_rated['Blitz'] != 0.0)]"
   ]
  },
  {
   "cell_type": "code",
   "execution_count": 29,
   "id": "7d94448e-e4bc-4fdd-8acb-84fea38d6186",
   "metadata": {
    "execution": {
     "iopub.execute_input": "2023-08-18T08:27:30.907655Z",
     "iopub.status.busy": "2023-08-18T08:27:30.906656Z",
     "iopub.status.idle": "2023-08-18T08:27:30.953655Z",
     "shell.execute_reply": "2023-08-18T08:27:30.952664Z",
     "shell.execute_reply.started": "2023-08-18T08:27:30.907655Z"
    },
    "tags": []
   },
   "outputs": [
    {
     "data": {
      "text/html": [
       "<div>\n",
       "<style scoped>\n",
       "    .dataframe tbody tr th:only-of-type {\n",
       "        vertical-align: middle;\n",
       "    }\n",
       "\n",
       "    .dataframe tbody tr th {\n",
       "        vertical-align: top;\n",
       "    }\n",
       "\n",
       "    .dataframe thead th {\n",
       "        text-align: right;\n",
       "    }\n",
       "</style>\n",
       "<table border=\"1\" class=\"dataframe\">\n",
       "  <thead>\n",
       "    <tr style=\"text-align: right;\">\n",
       "      <th></th>\n",
       "      <th>Name</th>\n",
       "      <th>Federation</th>\n",
       "      <th>Gender</th>\n",
       "      <th>Year_of_birth</th>\n",
       "      <th>Title</th>\n",
       "      <th>Standard</th>\n",
       "      <th>Rapid</th>\n",
       "      <th>Blitz</th>\n",
       "      <th>Inactive_flag</th>\n",
       "      <th>ELO</th>\n",
       "    </tr>\n",
       "  </thead>\n",
       "  <tbody>\n",
       "    <tr>\n",
       "      <th>0</th>\n",
       "      <td>Carlsen, Magnus</td>\n",
       "      <td>NOR</td>\n",
       "      <td>M</td>\n",
       "      <td>1990.0</td>\n",
       "      <td>GM</td>\n",
       "      <td>2863.0</td>\n",
       "      <td>2881.0</td>\n",
       "      <td>2886.0</td>\n",
       "      <td>NaN</td>\n",
       "      <td>2876.67</td>\n",
       "    </tr>\n",
       "    <tr>\n",
       "      <th>1</th>\n",
       "      <td>Caruana, Fabiano</td>\n",
       "      <td>USA</td>\n",
       "      <td>M</td>\n",
       "      <td>1992.0</td>\n",
       "      <td>GM</td>\n",
       "      <td>2835.0</td>\n",
       "      <td>2773.0</td>\n",
       "      <td>2711.0</td>\n",
       "      <td>NaN</td>\n",
       "      <td>2773.00</td>\n",
       "    </tr>\n",
       "    <tr>\n",
       "      <th>2</th>\n",
       "      <td>Kasparov, Garry</td>\n",
       "      <td>RUS</td>\n",
       "      <td>M</td>\n",
       "      <td>1963.0</td>\n",
       "      <td>GM</td>\n",
       "      <td>2812.0</td>\n",
       "      <td>2783.0</td>\n",
       "      <td>2801.0</td>\n",
       "      <td>i</td>\n",
       "      <td>2798.67</td>\n",
       "    </tr>\n",
       "    <tr>\n",
       "      <th>3</th>\n",
       "      <td>Ding, Liren</td>\n",
       "      <td>CHN</td>\n",
       "      <td>M</td>\n",
       "      <td>1992.0</td>\n",
       "      <td>GM</td>\n",
       "      <td>2791.0</td>\n",
       "      <td>2836.0</td>\n",
       "      <td>2788.0</td>\n",
       "      <td>NaN</td>\n",
       "      <td>2805.00</td>\n",
       "    </tr>\n",
       "    <tr>\n",
       "      <th>4</th>\n",
       "      <td>Nepomniachtchi, Ian</td>\n",
       "      <td>RUS</td>\n",
       "      <td>M</td>\n",
       "      <td>1990.0</td>\n",
       "      <td>GM</td>\n",
       "      <td>2784.0</td>\n",
       "      <td>2778.0</td>\n",
       "      <td>2785.0</td>\n",
       "      <td>NaN</td>\n",
       "      <td>2782.33</td>\n",
       "    </tr>\n",
       "    <tr>\n",
       "      <th>...</th>\n",
       "      <td>...</td>\n",
       "      <td>...</td>\n",
       "      <td>...</td>\n",
       "      <td>...</td>\n",
       "      <td>...</td>\n",
       "      <td>...</td>\n",
       "      <td>...</td>\n",
       "      <td>...</td>\n",
       "      <td>...</td>\n",
       "      <td>...</td>\n",
       "    </tr>\n",
       "    <tr>\n",
       "      <th>86257</th>\n",
       "      <td>Mitrelis, Konstantinos</td>\n",
       "      <td>GRE</td>\n",
       "      <td>M</td>\n",
       "      <td>2002.0</td>\n",
       "      <td>NaN</td>\n",
       "      <td>1001.0</td>\n",
       "      <td>1037.0</td>\n",
       "      <td>1034.0</td>\n",
       "      <td>i</td>\n",
       "      <td>1024.00</td>\n",
       "    </tr>\n",
       "    <tr>\n",
       "      <th>86258</th>\n",
       "      <td>Turgut, Fatih</td>\n",
       "      <td>TUR</td>\n",
       "      <td>M</td>\n",
       "      <td>2004.0</td>\n",
       "      <td>NaN</td>\n",
       "      <td>1001.0</td>\n",
       "      <td>1042.0</td>\n",
       "      <td>1029.0</td>\n",
       "      <td>NaN</td>\n",
       "      <td>1024.00</td>\n",
       "    </tr>\n",
       "    <tr>\n",
       "      <th>86259</th>\n",
       "      <td>Utsav Dutta</td>\n",
       "      <td>IND</td>\n",
       "      <td>M</td>\n",
       "      <td>2008.0</td>\n",
       "      <td>NaN</td>\n",
       "      <td>1001.0</td>\n",
       "      <td>1013.0</td>\n",
       "      <td>1015.0</td>\n",
       "      <td>NaN</td>\n",
       "      <td>1009.67</td>\n",
       "    </tr>\n",
       "    <tr>\n",
       "      <th>86260</th>\n",
       "      <td>Vekkos, Christos</td>\n",
       "      <td>GRE</td>\n",
       "      <td>M</td>\n",
       "      <td>2005.0</td>\n",
       "      <td>NaN</td>\n",
       "      <td>1001.0</td>\n",
       "      <td>1060.0</td>\n",
       "      <td>1135.0</td>\n",
       "      <td>NaN</td>\n",
       "      <td>1065.33</td>\n",
       "    </tr>\n",
       "    <tr>\n",
       "      <th>86261</th>\n",
       "      <td>Zanin, Sylvie</td>\n",
       "      <td>FRA</td>\n",
       "      <td>F</td>\n",
       "      <td>1966.0</td>\n",
       "      <td>NaN</td>\n",
       "      <td>1001.0</td>\n",
       "      <td>1125.0</td>\n",
       "      <td>1075.0</td>\n",
       "      <td>NaN</td>\n",
       "      <td>1067.00</td>\n",
       "    </tr>\n",
       "  </tbody>\n",
       "</table>\n",
       "<p>86262 rows × 10 columns</p>\n",
       "</div>"
      ],
      "text/plain": [
       "                         Name Federation Gender  Year_of_birth Title  \\\n",
       "0             Carlsen, Magnus        NOR      M         1990.0    GM   \n",
       "1            Caruana, Fabiano        USA      M         1992.0    GM   \n",
       "2             Kasparov, Garry        RUS      M         1963.0    GM   \n",
       "3                 Ding, Liren        CHN      M         1992.0    GM   \n",
       "4         Nepomniachtchi, Ian        RUS      M         1990.0    GM   \n",
       "...                       ...        ...    ...            ...   ...   \n",
       "86257  Mitrelis, Konstantinos        GRE      M         2002.0   NaN   \n",
       "86258           Turgut, Fatih        TUR      M         2004.0   NaN   \n",
       "86259             Utsav Dutta        IND      M         2008.0   NaN   \n",
       "86260        Vekkos, Christos        GRE      M         2005.0   NaN   \n",
       "86261           Zanin, Sylvie        FRA      F         1966.0   NaN   \n",
       "\n",
       "       Standard   Rapid   Blitz Inactive_flag      ELO  \n",
       "0        2863.0  2881.0  2886.0           NaN  2876.67  \n",
       "1        2835.0  2773.0  2711.0           NaN  2773.00  \n",
       "2        2812.0  2783.0  2801.0             i  2798.67  \n",
       "3        2791.0  2836.0  2788.0           NaN  2805.00  \n",
       "4        2784.0  2778.0  2785.0           NaN  2782.33  \n",
       "...         ...     ...     ...           ...      ...  \n",
       "86257    1001.0  1037.0  1034.0             i  1024.00  \n",
       "86258    1001.0  1042.0  1029.0           NaN  1024.00  \n",
       "86259    1001.0  1013.0  1015.0           NaN  1009.67  \n",
       "86260    1001.0  1060.0  1135.0           NaN  1065.33  \n",
       "86261    1001.0  1125.0  1075.0           NaN  1067.00  \n",
       "\n",
       "[86262 rows x 10 columns]"
      ]
     },
     "execution_count": 29,
     "metadata": {},
     "output_type": "execute_result"
    }
   ],
   "source": [
    "data_2020_rated = data_2020_rated.assign(ELO = lambda x: round((x['Standard'] + x['Rapid'] + x['Blitz'])/3, 2))\n",
    "data_2020_rated.reset_index(drop = True)"
   ]
  },
  {
   "cell_type": "markdown",
   "id": "e584a5ab-fdb7-4456-834e-6c4d0c7c97f6",
   "metadata": {},
   "source": [
    "Now here comes the fun part! We will conduct a two sample t-test in order to check if the difference from the mean rating from the first dataset and the mean rating we constructed is **statistically significant**.\n",
    "\n",
    "Let's first plot the data."
   ]
  },
  {
   "cell_type": "code",
   "execution_count": 30,
   "id": "3f74db6c-f4e4-433b-8afd-cb4c1026735b",
   "metadata": {
    "execution": {
     "iopub.execute_input": "2023-08-18T08:27:30.954654Z",
     "iopub.status.busy": "2023-08-18T08:27:30.954654Z",
     "iopub.status.idle": "2023-08-18T08:27:31.204812Z",
     "shell.execute_reply": "2023-08-18T08:27:31.203819Z",
     "shell.execute_reply.started": "2023-08-18T08:27:30.954654Z"
    },
    "tags": []
   },
   "outputs": [
    {
     "data": {
      "image/png": "[encoded data removed]",
      "text/plain": [
       "<Figure size 640x480 with 1 Axes>"
      ]
     },
     "metadata": {},
     "output_type": "display_data"
    }
   ],
   "source": [
    "data_2022_cleaned = data_2022[(data_2022['FIDE'].notna()) & (data_2022['FIDE'] != 0.0)]\n",
    "data_2022_cleaned\n",
    "plt.hist(data_2022_cleaned['FIDE'], bins = 20)\n",
    "plt.hist(data_2020_rated['ELO'], bins = 20)\n",
    "plt.ylabel('Number of players')\n",
    "plt.xlabel('Rating')\n",
    "plt.title('Rating plot based on number of players')\n",
    "plt.show()"
   ]
  },
  {
   "cell_type": "markdown",
   "id": "1ff9d94f-1898-4bee-9191-2e26b004a5f8",
   "metadata": {},
   "source": [
    "Here we notice quite the difference in players, this plot may deceive us. \n",
    "\n",
    "Let's apply a logarithmic scale on the y axis, so we can actually see what is going on.\n",
    "\n",
    "We are doing this, because when working with big numbers on the y axis, they can often be deceiving. Using the logarithmic scale doesn't work with the numbers on the y axis themselves, it works with the change in their actual value. \n",
    "\n",
    "We use it when there is a large value range in our dataset, as it is not a linear scale."
   ]
  },
  {
   "cell_type": "code",
   "execution_count": 31,
   "id": "66580588-2317-48d7-b39d-83fa7661d0f0",
   "metadata": {
    "execution": {
     "iopub.execute_input": "2023-08-18T08:27:31.205811Z",
     "iopub.status.busy": "2023-08-18T08:27:31.205811Z",
     "iopub.status.idle": "2023-08-18T08:27:31.796022Z",
     "shell.execute_reply": "2023-08-18T08:27:31.795033Z",
     "shell.execute_reply.started": "2023-08-18T08:27:31.205811Z"
    },
    "tags": []
   },
   "outputs": [
    {
     "data": {
      "image/png": "[encoded data removed]",
      "text/plain": [
       "<Figure size 640x480 with 1 Axes>"
      ]
     },
     "metadata": {},
     "output_type": "display_data"
    }
   ],
   "source": [
    "plt.hist(data_2022_cleaned['FIDE'], bins = 20)\n",
    "plt.hist(data_2020_rated['ELO'], bins = 20)\n",
    "plt.ylabel('Orders of magnitude')\n",
    "plt.xlabel('Rating')\n",
    "plt.title('Rating plot based on number of players')\n",
    "plt.semilogy()\n",
    "plt.show()"
   ]
  },
  {
   "cell_type": "markdown",
   "id": "61bbf5a2-2d5f-4c59-84d0-c48e5c8da115",
   "metadata": {},
   "source": [
    "Now let's test our newly created ELO rating. \n",
    "\n",
    "We will make an assumption that there is almost no real difference in the ratings of players with the official data and our new feature in the dataset. If there is no significant difference from both, we can safely say that our feature is created properly.\n",
    "\n",
    "The two sample T-test will help us with this.\n",
    "\n",
    "First we need to check if the populations have equal variance. We can assume that populations have equal variance, if the ratio of the larger sample variance to the smaller sample variance is less than 4:1."
   ]
  },
  {
   "cell_type": "code",
   "execution_count": 32,
   "id": "28d5a2ee-9b3a-4860-a56f-b9de1ffa34c6",
   "metadata": {
    "execution": {
     "iopub.execute_input": "2023-08-18T08:27:31.798022Z",
     "iopub.status.busy": "2023-08-18T08:27:31.798022Z",
     "iopub.status.idle": "2023-08-18T08:27:31.826024Z",
     "shell.execute_reply": "2023-08-18T08:27:31.826024Z",
     "shell.execute_reply.started": "2023-08-18T08:27:31.798022Z"
    },
    "tags": []
   },
   "outputs": [
    {
     "name": "stdout",
     "output_type": "stream",
     "text": [
      "First population variance: 81611.59912 \n",
      "Second population variance : 113849.26000000001\n"
     ]
    }
   ],
   "source": [
    "rnd_sample_2020 = data_2020_rated['ELO'].sample(n=20, random_state = 1)\n",
    "rnd_sample_2022 = data_2022_cleaned['FIDE'].sample(n = 20, random_state = 1)\n",
    "\n",
    "var1 = np.var(rnd_sample_2020)\n",
    "var2 = np.var(rnd_sample_2022)\n",
    "print(f\"First population variance: {var1} \\nSecond population variance : {var2}\")"
   ]
  },
  {
   "cell_type": "code",
   "execution_count": 33,
   "id": "ae8051d8-8aba-40d3-87a8-80059ab1542e",
   "metadata": {
    "execution": {
     "iopub.execute_input": "2023-08-18T08:27:31.828025Z",
     "iopub.status.busy": "2023-08-18T08:27:31.827025Z",
     "iopub.status.idle": "2023-08-18T08:27:31.843024Z",
     "shell.execute_reply": "2023-08-18T08:27:31.842057Z",
     "shell.execute_reply.started": "2023-08-18T08:27:31.828025Z"
    },
    "tags": []
   },
   "outputs": [
    {
     "name": "stdout",
     "output_type": "stream",
     "text": [
      "Ratio of bigger population variance to smaller population variance: 1.39501 \n"
     ]
    }
   ],
   "source": [
    "print(f\"Ratio of bigger population variance to smaller population variance: {round(var2/var1, 5)} \")"
   ]
  },
  {
   "cell_type": "code",
   "execution_count": 34,
   "id": "c2527d09-3b86-4961-8ef0-f1f20c1704f8",
   "metadata": {
    "execution": {
     "iopub.execute_input": "2023-08-18T08:27:31.854026Z",
     "iopub.status.busy": "2023-08-18T08:27:31.854026Z",
     "iopub.status.idle": "2023-08-18T08:27:32.061039Z",
     "shell.execute_reply": "2023-08-18T08:27:32.060021Z",
     "shell.execute_reply.started": "2023-08-18T08:27:31.854026Z"
    },
    "tags": []
   },
   "outputs": [
    {
     "data": {
      "image/png": "[encoded data removed]",
      "text/plain": [
       "<Figure size 640x480 with 1 Axes>"
      ]
     },
     "metadata": {},
     "output_type": "display_data"
    }
   ],
   "source": [
    "plt.hist(rnd_sample_2022, bins = 20, alpha = 0.7, label = '2022 Ratings')\n",
    "plt.hist(rnd_sample_2020, bins = 20, alpha = 0.7, label = '2020 Ratings')\n",
    "plt.legend(loc = 'upper right')\n",
    "plt.title('Distribution of ratings from two different years')\n",
    "plt.xlabel('Rating')\n",
    "plt.ylabel('Player Count')\n",
    "plt.show()"
   ]
  },
  {
   "cell_type": "markdown",
   "id": "78ee6c58-5002-4597-8de2-31e2f3cccf79",
   "metadata": {
    "tags": []
   },
   "source": [
    "Our samples are with a relatively normal distribution, they are randomly sampled and our variance is in check. \n",
    "\n",
    "We can proceed with the T-test itself, but first, let's define our hypothesis more clearly."
   ]
  },
  {
   "cell_type": "markdown",
   "id": "85b83100-b569-4333-ab6a-859f2e840779",
   "metadata": {},
   "source": [
    "Our null hypothesis or ***H0*** : The means of the ratings from the two different years are equal."
   ]
  },
  {
   "cell_type": "markdown",
   "id": "558e4cc2-3b08-4af9-8394-36f3007fe97f",
   "metadata": {},
   "source": [
    "Alternate hypothesis or ***HA*** : The means of the ratings from the two different years are ***NOT*** equal.\n",
    "\n",
    "Let's choose a significance value of $\\alpha$ = 0.05."
   ]
  },
  {
   "cell_type": "code",
   "execution_count": 35,
   "id": "600451a9-08a5-4f8f-82a9-3b562f6a6fd3",
   "metadata": {
    "execution": {
     "iopub.execute_input": "2023-08-18T08:27:32.064053Z",
     "iopub.status.busy": "2023-08-18T08:27:32.063024Z",
     "iopub.status.idle": "2023-08-18T08:27:32.075025Z",
     "shell.execute_reply": "2023-08-18T08:27:32.075025Z",
     "shell.execute_reply.started": "2023-08-18T08:27:32.063024Z"
    },
    "tags": []
   },
   "outputs": [
    {
     "name": "stdout",
     "output_type": "stream",
     "text": [
      "0.5945169087351339 0.5556899447536915\n"
     ]
    }
   ],
   "source": [
    "(statistic, pvalue) = stats.ttest_ind(rnd_sample_2022, rnd_sample_2020,  equal_var=True)\n",
    "print(statistic, pvalue)"
   ]
  },
  {
   "cell_type": "markdown",
   "id": "ef1ad851-3895-4423-b40f-04db1fd1fc20",
   "metadata": {},
   "source": [
    "Since the p-value is greater than our significance level of 0.05, we fail to reject the null hypothesis and conclude that there is no sufficient evidence to say that the ratings from the two different years are not equal.\n",
    "\n",
    "Now we can use our data to draw conclusions!"
   ]
  },
  {
   "cell_type": "markdown",
   "id": "c4f67e6b-a5e1-4423-982e-67c25f5886e6",
   "metadata": {},
   "source": [
    "### Analyzing success"
   ]
  },
  {
   "cell_type": "markdown",
   "id": "ada37574-0d98-4e17-a149-bf78fb81730e",
   "metadata": {},
   "source": [
    "Let's think about how can a country/federation be successful in chess.\n",
    "We could include several ways to view this:\n",
    "+ Country with the highest amount of players in the GM division.\n",
    "+ Country with the highest amount of players across all divisions.\n",
    "+ Country with the highest amount of young players in the highest possible division."
   ]
  },
  {
   "cell_type": "markdown",
   "id": "bba0dbf5-b515-42e7-b4f3-ac0c77052b62",
   "metadata": {},
   "source": [
    "The nature of the information we are working with *confines* us to making such kinds of success metrics. \n",
    "After all how can we assess a player in a different way, when the only information we have is country/federation, age, and rating?\n",
    "\n",
    "Title is just a filter for rating, that's why it is not mentioned.\n",
    "###### I would be extremely happy to be proven wrong, please share if you can find a different metric by which we can assess players, based on the existing data. \n",
    "\n",
    "###### All other findings, comments and corrections for this notebook are welcomed :)"
   ]
  },
  {
   "cell_type": "markdown",
   "id": "9f6cd72f-854d-4262-a738-fc2cb9317073",
   "metadata": {},
   "source": [
    "Let's explore the first point of our success metrics.\n",
    "\n",
    "Before proceding, we will rename the 'Federation' column from the first dataset to 'Country'. This will speed up our analysis and will contribute to a higher quality of the code, as our work has repetitive elements."
   ]
  },
  {
   "cell_type": "code",
   "execution_count": 36,
   "id": "5ef99e4c-cb8d-4178-b668-340fbce747d4",
   "metadata": {
    "execution": {
     "iopub.execute_input": "2023-08-18T08:27:32.078025Z",
     "iopub.status.busy": "2023-08-18T08:27:32.077023Z",
     "iopub.status.idle": "2023-08-18T08:27:32.122412Z",
     "shell.execute_reply": "2023-08-18T08:27:32.121707Z",
     "shell.execute_reply.started": "2023-08-18T08:27:32.077023Z"
    },
    "tags": []
   },
   "outputs": [],
   "source": [
    "data_2020_rated = data_2020_rated.rename(columns = {'Federation' : 'Country'})\n",
    "def extract_gm_players(dataframe):\n",
    "    grouped = dataframe.groupby('Country', as_index = False)['Title'].value_counts()\n",
    "    gm_players = grouped[grouped['Title'] == 'GM'].sort_values(by = 'count', ascending = False).reset_index(drop = True).drop(columns = 'Title')\n",
    "    gm_players = gm_players.nlargest(5, columns = 'count')\n",
    "    return gm_players"
   ]
  },
  {
   "cell_type": "code",
   "execution_count": 37,
   "id": "d9406aef-20f2-4326-92df-b563504e96a6",
   "metadata": {
    "execution": {
     "iopub.execute_input": "2023-08-18T08:27:32.123409Z",
     "iopub.status.busy": "2023-08-18T08:27:32.123409Z",
     "iopub.status.idle": "2023-08-18T08:27:32.185409Z",
     "shell.execute_reply": "2023-08-18T08:27:32.184583Z",
     "shell.execute_reply.started": "2023-08-18T08:27:32.123409Z"
    },
    "tags": []
   },
   "outputs": [
    {
     "data": {
      "text/html": [
       "<div>\n",
       "<style scoped>\n",
       "    .dataframe tbody tr th:only-of-type {\n",
       "        vertical-align: middle;\n",
       "    }\n",
       "\n",
       "    .dataframe tbody tr th {\n",
       "        vertical-align: top;\n",
       "    }\n",
       "\n",
       "    .dataframe thead th {\n",
       "        text-align: right;\n",
       "    }\n",
       "</style>\n",
       "<table border=\"1\" class=\"dataframe\">\n",
       "  <thead>\n",
       "    <tr style=\"text-align: right;\">\n",
       "      <th></th>\n",
       "      <th>Country</th>\n",
       "      <th>count</th>\n",
       "    </tr>\n",
       "  </thead>\n",
       "  <tbody>\n",
       "    <tr>\n",
       "      <th>0</th>\n",
       "      <td>RUS</td>\n",
       "      <td>198</td>\n",
       "    </tr>\n",
       "    <tr>\n",
       "      <th>1</th>\n",
       "      <td>UKR</td>\n",
       "      <td>73</td>\n",
       "    </tr>\n",
       "    <tr>\n",
       "      <th>2</th>\n",
       "      <td>IND</td>\n",
       "      <td>60</td>\n",
       "    </tr>\n",
       "    <tr>\n",
       "      <th>3</th>\n",
       "      <td>GER</td>\n",
       "      <td>52</td>\n",
       "    </tr>\n",
       "    <tr>\n",
       "      <th>4</th>\n",
       "      <td>USA</td>\n",
       "      <td>47</td>\n",
       "    </tr>\n",
       "  </tbody>\n",
       "</table>\n",
       "</div>"
      ],
      "text/plain": [
       "  Country  count\n",
       "0     RUS    198\n",
       "1     UKR     73\n",
       "2     IND     60\n",
       "3     GER     52\n",
       "4     USA     47"
      ]
     },
     "execution_count": 37,
     "metadata": {},
     "output_type": "execute_result"
    }
   ],
   "source": [
    "gm_players_2020 = extract_gm_players(data_2020_rated)\n",
    "gm_players_2022 = extract_gm_players(data_2022_cleaned)\n",
    "\n",
    "gm_players_2020"
   ]
  },
  {
   "cell_type": "markdown",
   "id": "8545a115-ac78-4fff-8f06-96bd1065fb05",
   "metadata": {},
   "source": [
    "Let's change the labels of the first plot to be consistent with the second one. Also the colors in the second pie should be the same as the colors in the first pie. \n",
    "\n",
    "For example in the first pie Germany has a red color, so we change the default color order for the second plot to match the first."
   ]
  },
  {
   "cell_type": "code",
   "execution_count": 38,
   "id": "a484f15f-645d-45cc-a9a6-63341286ac1c",
   "metadata": {
    "execution": {
     "iopub.execute_input": "2023-08-18T08:27:32.186408Z",
     "iopub.status.busy": "2023-08-18T08:27:32.186408Z",
     "iopub.status.idle": "2023-08-18T08:27:32.200446Z",
     "shell.execute_reply": "2023-08-18T08:27:32.200446Z",
     "shell.execute_reply.started": "2023-08-18T08:27:32.186408Z"
    },
    "tags": []
   },
   "outputs": [],
   "source": [
    "labels_2020 = ['Russia', 'Ukraine', 'India', 'Germany', 'United States']\n",
    "\n",
    "prop_cycle = plt.rcParams['axes.prop_cycle']\n",
    "colors = prop_cycle.by_key()['color']\n",
    "reordered = ['#1f77b4','#d62728', '#ff7f0e', '#9467bd', '#2ca02c']\n",
    "\n",
    "def format_data(dataframe):\n",
    "    def absolute_value(val):\n",
    "        a  = int(np.round(val/100.*dataframe['count'].sum()))\n",
    "        return a\n",
    "    return absolute_value\n",
    "\n",
    "def plot_pie(dataframe_2020, dataframe_2022, title_2020, title_2022,labels_2020, colors_2020 = None, colors_2022 = None):\n",
    "    fig, ax = plt.subplots(1, 2, layout=\"constrained\", figsize=(10, 3.5))\n",
    "    ax[0].pie(dataframe_2020['count'], labels=labels_2020, autopct=format_data(dataframe_2020), colors = colors_2020)\n",
    "    ax[0].set_title(title_2020, x = 0.5)\n",
    "    \n",
    "    ax[1].pie(dataframe_2022['count'], labels=dataframe_2022['Country'], autopct=format_data(dataframe_2022), colors = colors_2022)\n",
    "    ax[1].set_title(title_2022)\n",
    "    plt.show()"
   ]
  },
  {
   "cell_type": "code",
   "execution_count": 39,
   "id": "a77a4e8c-cb90-417c-abb4-2b5e23a9d3be",
   "metadata": {
    "execution": {
     "iopub.execute_input": "2023-08-18T08:27:32.201444Z",
     "iopub.status.busy": "2023-08-18T08:27:32.201444Z",
     "iopub.status.idle": "2023-08-18T08:27:32.406409Z",
     "shell.execute_reply": "2023-08-18T08:27:32.405442Z",
     "shell.execute_reply.started": "2023-08-18T08:27:32.201444Z"
    },
    "tags": []
   },
   "outputs": [
    {
     "data": {
      "image/png": "[encoded data removed]",
      "text/plain": [
       "<Figure size 1000x350 with 2 Axes>"
      ]
     },
     "metadata": {},
     "output_type": "display_data"
    }
   ],
   "source": [
    "plot_pie(gm_players_2020, gm_players_2022, 'Top 5 countries with GM players for 2020', 'Top 5 countries with GM players for 2022', labels_2020 = labels_2020, colors_2022 = reordered,)"
   ]
  },
  {
   "cell_type": "markdown",
   "id": "a416a1fd-a0b6-4ecd-8ee5-b7aed6e78ef7",
   "metadata": {},
   "source": [
    "Russia wins the first point of our success metrics, which was the number of players in the GM division.\n",
    "\n",
    "Next up is number of players across all divisions."
   ]
  },
  {
   "cell_type": "code",
   "execution_count": 40,
   "id": "fbcb6ce6-3247-45b4-ac3b-017b105ea0c5",
   "metadata": {
    "execution": {
     "iopub.execute_input": "2023-08-18T08:27:32.407412Z",
     "iopub.status.busy": "2023-08-18T08:27:32.407412Z",
     "iopub.status.idle": "2023-08-18T08:27:32.421412Z",
     "shell.execute_reply": "2023-08-18T08:27:32.420410Z",
     "shell.execute_reply.started": "2023-08-18T08:27:32.407412Z"
    },
    "tags": []
   },
   "outputs": [],
   "source": [
    "def players_all_divisions(dataframe):\n",
    "    grouped = dataframe.groupby('Country', as_index = False)['Title'].value_counts()\n",
    "    grouped['count'] = grouped.groupby('Country')['count'].transform('sum')\n",
    "    grouped = grouped.sort_values(by = 'count', ascending = False)\n",
    "    grouped.drop(columns = ['Title'], inplace = True)\n",
    "    grouped.drop_duplicates(subset=['Country', 'count'], inplace=True)\n",
    "    grouped = grouped.reset_index(drop = True).nlargest(5, columns = 'count')\n",
    "    return grouped"
   ]
  },
  {
   "cell_type": "code",
   "execution_count": 41,
   "id": "b1a661d0-cc8b-4557-bed7-46546338f0c1",
   "metadata": {
    "execution": {
     "iopub.execute_input": "2023-08-18T08:27:32.423410Z",
     "iopub.status.busy": "2023-08-18T08:27:32.423410Z",
     "iopub.status.idle": "2023-08-18T08:27:32.688758Z",
     "shell.execute_reply": "2023-08-18T08:27:32.688758Z",
     "shell.execute_reply.started": "2023-08-18T08:27:32.423410Z"
    },
    "tags": []
   },
   "outputs": [
    {
     "data": {
      "image/png": "[encoded data removed]",
      "text/plain": [
       "<Figure size 1000x350 with 2 Axes>"
      ]
     },
     "metadata": {},
     "output_type": "display_data"
    }
   ],
   "source": [
    "labels_2020_all = ['Russia', 'Germany', 'Spain', 'Ukraine', 'India']\n",
    "all_players_2020 = players_all_divisions(data_2020_rated)\n",
    "all_players_2022 = players_all_divisions(data_2022_cleaned)\n",
    "reordered_2022 = ['#C39797', '#1f77b4','#ff7f0e', '#9467bd', '#B6FCD5']\n",
    "plot_pie(all_players_2020, all_players_2022, 'Number of players in all divisions 2020', 'Number of players in all divisions 2022', colors_2022 = reordered_2022, labels_2020 = labels_2020_all)"
   ]
  },
  {
   "cell_type": "markdown",
   "id": "342c857a-7abc-48de-8a7e-1449643c2adb",
   "metadata": {},
   "source": [
    "This time we also have France in our second dataset. The value is really high and doesn't qualify in the top 5 in the 2020 dataset. This could be caused by a mistake while collecting the information or the second dataset is biased towards France. \n",
    "\n",
    "Another thing to note here is that countries from the first pie retain their color in the second pie, while new countries have new colors. This will be applied for all pie charts.\n",
    "\n",
    "Either way Russia still wins the second success metric.\n",
    "\n",
    "Now we will analyse our last metric - Number of young players in the highest possible division.\n",
    "\n",
    "But first we need to say how do we define a young player. Let's use the mean age in both datasets and players below the mean age, will be considered young.\n",
    "\n",
    "Before that we need to change our first dataset, as it contains the year of birth and not the age of the players."
   ]
  },
  {
   "cell_type": "code",
   "execution_count": 42,
   "id": "e35ababb-ca78-47c1-ba9a-361bf169622a",
   "metadata": {
    "execution": {
     "iopub.execute_input": "2023-08-18T08:27:32.690759Z",
     "iopub.status.busy": "2023-08-18T08:27:32.690759Z",
     "iopub.status.idle": "2023-08-18T08:27:33.651877Z",
     "shell.execute_reply": "2023-08-18T08:27:33.650994Z",
     "shell.execute_reply.started": "2023-08-18T08:27:32.690759Z"
    },
    "tags": []
   },
   "outputs": [],
   "source": [
    "def calculate_age(born):\n",
    "    born = datetime.strptime(str(born), \"%Y.%M\").date()\n",
    "    today = date.today()\n",
    "    return today.year - born.year\n",
    "\n",
    "data_2020_rated['Age'] = data_2020_rated['Year_of_birth'].dropna().apply(calculate_age)\n",
    "data_2020_rated.drop(columns = ['Year_of_birth'], inplace = True)\n",
    "data_2020_rated = data_2020_rated.reset_index(drop = True)"
   ]
  },
  {
   "cell_type": "code",
   "execution_count": 43,
   "id": "91d1f2de-2bc9-4a11-a87c-3ce3953a2193",
   "metadata": {
    "execution": {
     "iopub.execute_input": "2023-08-18T08:27:33.653882Z",
     "iopub.status.busy": "2023-08-18T08:27:33.653882Z",
     "iopub.status.idle": "2023-08-18T08:27:33.682906Z",
     "shell.execute_reply": "2023-08-18T08:27:33.681904Z",
     "shell.execute_reply.started": "2023-08-18T08:27:33.653882Z"
    }
   },
   "outputs": [
    {
     "data": {
      "text/html": [
       "<div>\n",
       "<style scoped>\n",
       "    .dataframe tbody tr th:only-of-type {\n",
       "        vertical-align: middle;\n",
       "    }\n",
       "\n",
       "    .dataframe tbody tr th {\n",
       "        vertical-align: top;\n",
       "    }\n",
       "\n",
       "    .dataframe thead th {\n",
       "        text-align: right;\n",
       "    }\n",
       "</style>\n",
       "<table border=\"1\" class=\"dataframe\">\n",
       "  <thead>\n",
       "    <tr style=\"text-align: right;\">\n",
       "      <th></th>\n",
       "      <th>Name</th>\n",
       "      <th>Country</th>\n",
       "      <th>Gender</th>\n",
       "      <th>Title</th>\n",
       "      <th>Standard</th>\n",
       "      <th>Rapid</th>\n",
       "      <th>Blitz</th>\n",
       "      <th>Inactive_flag</th>\n",
       "      <th>ELO</th>\n",
       "      <th>Age</th>\n",
       "    </tr>\n",
       "  </thead>\n",
       "  <tbody>\n",
       "    <tr>\n",
       "      <th>0</th>\n",
       "      <td>Carlsen, Magnus</td>\n",
       "      <td>NOR</td>\n",
       "      <td>M</td>\n",
       "      <td>GM</td>\n",
       "      <td>2863.0</td>\n",
       "      <td>2881.0</td>\n",
       "      <td>2886.0</td>\n",
       "      <td>NaN</td>\n",
       "      <td>2876.67</td>\n",
       "      <td>33.0</td>\n",
       "    </tr>\n",
       "    <tr>\n",
       "      <th>1</th>\n",
       "      <td>Caruana, Fabiano</td>\n",
       "      <td>USA</td>\n",
       "      <td>M</td>\n",
       "      <td>GM</td>\n",
       "      <td>2835.0</td>\n",
       "      <td>2773.0</td>\n",
       "      <td>2711.0</td>\n",
       "      <td>NaN</td>\n",
       "      <td>2773.00</td>\n",
       "      <td>31.0</td>\n",
       "    </tr>\n",
       "    <tr>\n",
       "      <th>2</th>\n",
       "      <td>Kasparov, Garry</td>\n",
       "      <td>RUS</td>\n",
       "      <td>M</td>\n",
       "      <td>GM</td>\n",
       "      <td>2812.0</td>\n",
       "      <td>2783.0</td>\n",
       "      <td>2801.0</td>\n",
       "      <td>i</td>\n",
       "      <td>2798.67</td>\n",
       "      <td>60.0</td>\n",
       "    </tr>\n",
       "    <tr>\n",
       "      <th>3</th>\n",
       "      <td>Ding, Liren</td>\n",
       "      <td>CHN</td>\n",
       "      <td>M</td>\n",
       "      <td>GM</td>\n",
       "      <td>2791.0</td>\n",
       "      <td>2836.0</td>\n",
       "      <td>2788.0</td>\n",
       "      <td>NaN</td>\n",
       "      <td>2805.00</td>\n",
       "      <td>31.0</td>\n",
       "    </tr>\n",
       "    <tr>\n",
       "      <th>4</th>\n",
       "      <td>Nepomniachtchi, Ian</td>\n",
       "      <td>RUS</td>\n",
       "      <td>M</td>\n",
       "      <td>GM</td>\n",
       "      <td>2784.0</td>\n",
       "      <td>2778.0</td>\n",
       "      <td>2785.0</td>\n",
       "      <td>NaN</td>\n",
       "      <td>2782.33</td>\n",
       "      <td>33.0</td>\n",
       "    </tr>\n",
       "    <tr>\n",
       "      <th>...</th>\n",
       "      <td>...</td>\n",
       "      <td>...</td>\n",
       "      <td>...</td>\n",
       "      <td>...</td>\n",
       "      <td>...</td>\n",
       "      <td>...</td>\n",
       "      <td>...</td>\n",
       "      <td>...</td>\n",
       "      <td>...</td>\n",
       "      <td>...</td>\n",
       "    </tr>\n",
       "    <tr>\n",
       "      <th>86257</th>\n",
       "      <td>Mitrelis, Konstantinos</td>\n",
       "      <td>GRE</td>\n",
       "      <td>M</td>\n",
       "      <td>NaN</td>\n",
       "      <td>1001.0</td>\n",
       "      <td>1037.0</td>\n",
       "      <td>1034.0</td>\n",
       "      <td>i</td>\n",
       "      <td>1024.00</td>\n",
       "      <td>21.0</td>\n",
       "    </tr>\n",
       "    <tr>\n",
       "      <th>86258</th>\n",
       "      <td>Turgut, Fatih</td>\n",
       "      <td>TUR</td>\n",
       "      <td>M</td>\n",
       "      <td>NaN</td>\n",
       "      <td>1001.0</td>\n",
       "      <td>1042.0</td>\n",
       "      <td>1029.0</td>\n",
       "      <td>NaN</td>\n",
       "      <td>1024.00</td>\n",
       "      <td>19.0</td>\n",
       "    </tr>\n",
       "    <tr>\n",
       "      <th>86259</th>\n",
       "      <td>Utsav Dutta</td>\n",
       "      <td>IND</td>\n",
       "      <td>M</td>\n",
       "      <td>NaN</td>\n",
       "      <td>1001.0</td>\n",
       "      <td>1013.0</td>\n",
       "      <td>1015.0</td>\n",
       "      <td>NaN</td>\n",
       "      <td>1009.67</td>\n",
       "      <td>15.0</td>\n",
       "    </tr>\n",
       "    <tr>\n",
       "      <th>86260</th>\n",
       "      <td>Vekkos, Christos</td>\n",
       "      <td>GRE</td>\n",
       "      <td>M</td>\n",
       "      <td>NaN</td>\n",
       "      <td>1001.0</td>\n",
       "      <td>1060.0</td>\n",
       "      <td>1135.0</td>\n",
       "      <td>NaN</td>\n",
       "      <td>1065.33</td>\n",
       "      <td>18.0</td>\n",
       "    </tr>\n",
       "    <tr>\n",
       "      <th>86261</th>\n",
       "      <td>Zanin, Sylvie</td>\n",
       "      <td>FRA</td>\n",
       "      <td>F</td>\n",
       "      <td>NaN</td>\n",
       "      <td>1001.0</td>\n",
       "      <td>1125.0</td>\n",
       "      <td>1075.0</td>\n",
       "      <td>NaN</td>\n",
       "      <td>1067.00</td>\n",
       "      <td>57.0</td>\n",
       "    </tr>\n",
       "  </tbody>\n",
       "</table>\n",
       "<p>86262 rows × 10 columns</p>\n",
       "</div>"
      ],
      "text/plain": [
       "                         Name Country Gender Title  Standard   Rapid   Blitz  \\\n",
       "0             Carlsen, Magnus     NOR      M    GM    2863.0  2881.0  2886.0   \n",
       "1            Caruana, Fabiano     USA      M    GM    2835.0  2773.0  2711.0   \n",
       "2             Kasparov, Garry     RUS      M    GM    2812.0  2783.0  2801.0   \n",
       "3                 Ding, Liren     CHN      M    GM    2791.0  2836.0  2788.0   \n",
       "4         Nepomniachtchi, Ian     RUS      M    GM    2784.0  2778.0  2785.0   \n",
       "...                       ...     ...    ...   ...       ...     ...     ...   \n",
       "86257  Mitrelis, Konstantinos     GRE      M   NaN    1001.0  1037.0  1034.0   \n",
       "86258           Turgut, Fatih     TUR      M   NaN    1001.0  1042.0  1029.0   \n",
       "86259             Utsav Dutta     IND      M   NaN    1001.0  1013.0  1015.0   \n",
       "86260        Vekkos, Christos     GRE      M   NaN    1001.0  1060.0  1135.0   \n",
       "86261           Zanin, Sylvie     FRA      F   NaN    1001.0  1125.0  1075.0   \n",
       "\n",
       "      Inactive_flag      ELO   Age  \n",
       "0               NaN  2876.67  33.0  \n",
       "1               NaN  2773.00  31.0  \n",
       "2                 i  2798.67  60.0  \n",
       "3               NaN  2805.00  31.0  \n",
       "4               NaN  2782.33  33.0  \n",
       "...             ...      ...   ...  \n",
       "86257             i  1024.00  21.0  \n",
       "86258           NaN  1024.00  19.0  \n",
       "86259           NaN  1009.67  15.0  \n",
       "86260           NaN  1065.33  18.0  \n",
       "86261           NaN  1067.00  57.0  \n",
       "\n",
       "[86262 rows x 10 columns]"
      ]
     },
     "execution_count": 43,
     "metadata": {},
     "output_type": "execute_result"
    }
   ],
   "source": [
    "data_2020_rated"
   ]
  },
  {
   "cell_type": "code",
   "execution_count": 44,
   "id": "e8635a99-08b5-4876-a64e-d9d4db0e23f8",
   "metadata": {
    "execution": {
     "iopub.execute_input": "2023-08-18T08:27:33.683870Z",
     "iopub.status.busy": "2023-08-18T08:27:33.683870Z",
     "iopub.status.idle": "2023-08-18T08:27:33.714149Z",
     "shell.execute_reply": "2023-08-18T08:27:33.713140Z",
     "shell.execute_reply.started": "2023-08-18T08:27:33.683870Z"
    },
    "tags": []
   },
   "outputs": [
    {
     "data": {
      "text/plain": [
       "36"
      ]
     },
     "execution_count": 44,
     "metadata": {},
     "output_type": "execute_result"
    }
   ],
   "source": [
    "mean_age_2020 = data_2020_rated['Age'].mean()\n",
    "round(mean_age_2020)"
   ]
  },
  {
   "cell_type": "code",
   "execution_count": 45,
   "id": "42f80a88-29f0-432c-a0fc-6a147bf2d836",
   "metadata": {
    "execution": {
     "iopub.execute_input": "2023-08-18T08:27:33.714149Z",
     "iopub.status.busy": "2023-08-18T08:27:33.714149Z",
     "iopub.status.idle": "2023-08-18T08:27:33.745298Z",
     "shell.execute_reply": "2023-08-18T08:27:33.744314Z",
     "shell.execute_reply.started": "2023-08-18T08:27:33.714149Z"
    },
    "tags": []
   },
   "outputs": [
    {
     "data": {
      "text/plain": [
       "36"
      ]
     },
     "execution_count": 45,
     "metadata": {},
     "output_type": "execute_result"
    }
   ],
   "source": [
    "mean_age_2022 = data_2022_cleaned['Age'].mean()\n",
    "round(mean_age_2022)"
   ]
  },
  {
   "cell_type": "markdown",
   "id": "c50e26c6-3d10-4cac-9824-ffa5ee45b19f",
   "metadata": {},
   "source": [
    "Now let's get all the players which are younger than 36.\n"
   ]
  },
  {
   "cell_type": "code",
   "execution_count": 46,
   "id": "63e99311-ab85-4d3a-943c-cb124548f80b",
   "metadata": {
    "execution": {
     "iopub.execute_input": "2023-08-18T08:27:33.747297Z",
     "iopub.status.busy": "2023-08-18T08:27:33.746296Z",
     "iopub.status.idle": "2023-08-18T08:27:33.792046Z",
     "shell.execute_reply": "2023-08-18T08:27:33.791031Z",
     "shell.execute_reply.started": "2023-08-18T08:27:33.747297Z"
    },
    "tags": []
   },
   "outputs": [],
   "source": [
    "def get_young_players(dataframe, threshold):\n",
    "    return dataframe[dataframe['Age'] < threshold].reset_index(drop = True)\n",
    "\n",
    "young_players_2020 = get_young_players(data_2020_rated, mean_age_2020)\n",
    "young_players_2022 = get_young_players(data_2022_cleaned, mean_age_2022)"
   ]
  },
  {
   "cell_type": "code",
   "execution_count": 47,
   "id": "e85a2b5e-bd88-40fc-a7fd-69d36a114270",
   "metadata": {
    "execution": {
     "iopub.execute_input": "2023-08-18T08:27:33.793045Z",
     "iopub.status.busy": "2023-08-18T08:27:33.792046Z",
     "iopub.status.idle": "2023-08-18T08:27:34.014085Z",
     "shell.execute_reply": "2023-08-18T08:27:34.013074Z",
     "shell.execute_reply.started": "2023-08-18T08:27:33.793045Z"
    },
    "tags": []
   },
   "outputs": [
    {
     "data": {
      "image/png": "[encoded data removed]",
      "text/plain": [
       "<Figure size 1000x350 with 2 Axes>"
      ]
     },
     "metadata": {},
     "output_type": "display_data"
    }
   ],
   "source": [
    "young_gm_players_2020 = extract_gm_players(young_players_2020)\n",
    "young_gm_players_2022 = extract_gm_players(young_players_2022)\n",
    "labels_2020_young = ['Russia', 'India', 'China', 'United States', 'Ukraine']\n",
    "reordered = ['#1f77b4','#ff7f0e' ,'#d62728', '#9467bd', '#2ca02c']\n",
    "plot_pie(young_gm_players_2020, young_gm_players_2022, 'Youngest GM Players 2020', 'Youngest GM Players 2022',labels_2020 = labels_2020_young, colors_2022 = reordered)"
   ]
  },
  {
   "cell_type": "markdown",
   "id": "c9063f6b-82ab-4b7a-898b-b614e6ff198d",
   "metadata": {},
   "source": [
    "### Bonus!"
   ]
  },
  {
   "cell_type": "markdown",
   "id": "d10899e4-c64b-4824-91c3-6295d8a82805",
   "metadata": {},
   "source": [
    "Who is the highest rated player from Bulgaria?"
   ]
  },
  {
   "cell_type": "code",
   "execution_count": 48,
   "id": "37505726-6da2-4e3d-83b8-3764a436981e",
   "metadata": {
    "execution": {
     "iopub.execute_input": "2023-08-18T08:27:34.015044Z",
     "iopub.status.busy": "2023-08-18T08:27:34.015044Z",
     "iopub.status.idle": "2023-08-18T08:27:34.060063Z",
     "shell.execute_reply": "2023-08-18T08:27:34.059075Z",
     "shell.execute_reply.started": "2023-08-18T08:27:34.015044Z"
    },
    "tags": []
   },
   "outputs": [
    {
     "data": {
      "text/html": [
       "<div>\n",
       "<style scoped>\n",
       "    .dataframe tbody tr th:only-of-type {\n",
       "        vertical-align: middle;\n",
       "    }\n",
       "\n",
       "    .dataframe tbody tr th {\n",
       "        vertical-align: top;\n",
       "    }\n",
       "\n",
       "    .dataframe thead th {\n",
       "        text-align: right;\n",
       "    }\n",
       "</style>\n",
       "<table border=\"1\" class=\"dataframe\">\n",
       "  <thead>\n",
       "    <tr style=\"text-align: right;\">\n",
       "      <th></th>\n",
       "      <th>Name</th>\n",
       "      <th>ELO</th>\n",
       "    </tr>\n",
       "  </thead>\n",
       "  <tbody>\n",
       "    <tr>\n",
       "      <th>0</th>\n",
       "      <td>Topalov, Veselin</td>\n",
       "      <td>2703.00</td>\n",
       "    </tr>\n",
       "    <tr>\n",
       "      <th>1</th>\n",
       "      <td>Delchev, Aleksander</td>\n",
       "      <td>2588.00</td>\n",
       "    </tr>\n",
       "    <tr>\n",
       "      <th>5</th>\n",
       "      <td>Grigorov, Grigor</td>\n",
       "      <td>2512.67</td>\n",
       "    </tr>\n",
       "  </tbody>\n",
       "</table>\n",
       "</div>"
      ],
      "text/plain": [
       "                  Name      ELO\n",
       "0     Topalov, Veselin  2703.00\n",
       "1  Delchev, Aleksander  2588.00\n",
       "5     Grigorov, Grigor  2512.67"
      ]
     },
     "metadata": {},
     "output_type": "display_data"
    },
    {
     "data": {
      "text/html": [
       "<div>\n",
       "<style scoped>\n",
       "    .dataframe tbody tr th:only-of-type {\n",
       "        vertical-align: middle;\n",
       "    }\n",
       "\n",
       "    .dataframe tbody tr th {\n",
       "        vertical-align: top;\n",
       "    }\n",
       "\n",
       "    .dataframe thead th {\n",
       "        text-align: right;\n",
       "    }\n",
       "</style>\n",
       "<table border=\"1\" class=\"dataframe\">\n",
       "  <thead>\n",
       "    <tr style=\"text-align: right;\">\n",
       "      <th></th>\n",
       "      <th>Name</th>\n",
       "      <th>FIDE</th>\n",
       "    </tr>\n",
       "  </thead>\n",
       "  <tbody>\n",
       "    <tr>\n",
       "      <th>0</th>\n",
       "      <td>Topalov, Veselin</td>\n",
       "      <td>2730.0</td>\n",
       "    </tr>\n",
       "    <tr>\n",
       "      <th>1</th>\n",
       "      <td>Cheparinov, Ivan</td>\n",
       "      <td>2664.0</td>\n",
       "    </tr>\n",
       "    <tr>\n",
       "      <th>2</th>\n",
       "      <td>Petrov, Martin</td>\n",
       "      <td>2547.0</td>\n",
       "    </tr>\n",
       "  </tbody>\n",
       "</table>\n",
       "</div>"
      ],
      "text/plain": [
       "               Name    FIDE\n",
       "0  Topalov, Veselin  2730.0\n",
       "1  Cheparinov, Ivan  2664.0\n",
       "2    Petrov, Martin  2547.0"
      ]
     },
     "metadata": {},
     "output_type": "display_data"
    }
   ],
   "source": [
    "bulgaria_players_2020 = data_2020_rated[data_2020_rated['Country'] == 'BUL'].reset_index(drop = True).nlargest(3, columns = ['ELO'])\n",
    "bulgaria_players_2022 = data_2022_cleaned[data_2022_cleaned['Country'] == 'Bulgaria'].reset_index(drop = True).nlargest(3, columns = ['FIDE'])\n",
    "bulgaria_players_2020 = bulgaria_players_2020[['Name', 'ELO']]\n",
    "bulgaria_players_2022 = bulgaria_players_2022[['Name', 'FIDE']]\n",
    "\n",
    "display(bulgaria_players_2020)\n",
    "display(bulgaria_players_2022)"
   ]
  },
  {
   "cell_type": "markdown",
   "id": "2dec52ce-dd0c-4edf-8d63-b814dec70310",
   "metadata": {},
   "source": [
    "With this our analysis is complete! Based on the success metrics we defined, we can say that Russia is the most successful country in chess!\n",
    "\n",
    "Let's not forget that success is a subjective concept and everyone can have a different definition for success.\n",
    "\n",
    "If you have any kind of ideas, corrections or advice for this notebook, feel free to reach out.\n",
    "\n",
    "Thanks for reading!"
   ]
  }
 ],
 "metadata": {
  "kernelspec": {
   "display_name": "Python 3",
   "language": "python",
   "name": "python3"
  },
  "language_info": {
   "codemirror_mode": {
    "name": "ipython",
    "version": 3
   },
   "file_extension": ".py",
   "mimetype": "text/x-python",
   "name": "python",
   "nbconvert_exporter": "python",
   "pygments_lexer": "ipython3",
   "version": "3.9.13"
  }
 },
 "nbformat": 4,
 "nbformat_minor": 5
}
